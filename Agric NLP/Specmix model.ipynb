{
 "cells": [
  {
   "cell_type": "markdown",
   "metadata": {},
   "source": [
    "#Seed value\n",
    "# Apparently you may use different seed values at each stage\n",
    "seed_value= 0\n",
    "\n",
    "# 1. Set `PYTHONHASHSEED` environment variable at a fixed value\n",
    "import os\n",
    "os.environ['PYTHONHASHSEED']=str(seed_value)\n",
    "\n",
    "# 2. Set `python` built-in pseudo-random generator at a fixed value\n",
    "import random\n",
    "random.seed(seed_value)\n",
    "\n",
    "# 3. Set `numpy` pseudo-random generator at a fixed value\n",
    "import numpy as np\n",
    "np.random.seed(seed_value)\n",
    "\n",
    "# 4. Set the `tensorflow` pseudo-random generator at a fixed value\n",
    "import tensorflow as tf\n",
    "tf.random.set_seed(seed_value)\n",
    "# for later versions: \n",
    "# tf.compat.v1.set_random_seed(seed_value)\n",
    "\n",
    "# 5. Configure a new global `tensorflow` session\n",
    "from keras import backend as K\n",
    "'''session_conf = tf.ConfigProto(intra_op_parallelism_threads=1, inter_op_parallelism_threads=1)\n",
    "sess = tf.Session(graph=tf.get_default_graph(), config=session_conf)\n",
    "K.set_session(sess)'''\n",
    "# for later versionsy\n",
    "session_conf = tf.compat.v1.ConfigProto(intra_op_parallelism_threads=1, inter_op_parallelism_threads=1)\n",
    "session_conf.gpu_options.allow_growth = True\n",
    "sess = tf.compat.v1.Session(graph=tf.compat.v1.get_default_graph(), config=session_conf)\n",
    "tf.compat.v1.keras.backend.set_session(sess)"
   ]
  },
  {
   "cell_type": "code",
   "execution_count": null,
   "metadata": {},
   "outputs": [],
   "source": []
  },
  {
   "cell_type": "code",
   "execution_count": 1,
   "metadata": {},
   "outputs": [],
   "source": [
    "import glob  \n",
    "import os  \n",
    "import librosa \n",
    "import librosa.display\n",
    "from PIL import Image\n",
    "import numpy as np  \n",
    "import random as python_random\n",
    "from tensorflow.keras.models import Sequential,Model  \n",
    "from tensorflow.keras.layers import Dense, Activation,Conv2D,MaxPooling2D,AveragePooling2D,GaussianNoise,TimeDistributed,LSTM,Attention\n",
    "from tensorflow.keras.layers import Dropout,Flatten ,BatchNormalization,Bidirectional,Input,Concatenate,concatenate\n",
    "from tensorflow.keras.callbacks import EarlyStopping,ModelCheckpoint\n",
    "from tensorflow.keras.applications import ResNet50,DenseNet121,InceptionV3,EfficientNetB0,VGG16\n",
    "\n",
    "import tensorflow as tf\n",
    "import os\n",
    "import tfdeterminism \n",
    "from tensorflow.keras.preprocessing.image import load_img,img_to_array\n",
    "from matplotlib import pyplot as plt\n",
    "from matplotlib.image import imread\n",
    "\n",
    "from sklearn.metrics import accuracy_score,auc,log_loss\n",
    "from sklearn.model_selection import train_test_split,StratifiedKFold,KFold  \n",
    "from sklearn.metrics import confusion_matrix  ,accuracy_score\n",
    "from sklearn.preprocessing import OneHotEncoder,StandardScaler,MinMaxScaler,Normalizer\n",
    "import pandas as pd  \n",
    "import seaborn as sns  \n",
    "import matplotlib.pyplot as plt\n",
    "os.environ['PYTHONHASHSEED']=str(101)\n",
    "os.environ['TF_DETERMINISTIC_OPS'] = '1'\n"
   ]
  },
  {
   "cell_type": "code",
   "execution_count": 2,
   "metadata": {},
   "outputs": [],
   "source": [
    " def custom_seeder(seed = 42):\n",
    "    os.environ['PYTHONHASHSEED']=str(seed)\n",
    "    os.environ['TF_DETERMINISTIC_OPS'] = '1'\n",
    "    \n",
    "    tf.random.set_seed(seed)\n",
    "    np.random.seed(seed)\n",
    "    python_random.seed(seed)\n"
   ]
  },
  {
   "cell_type": "code",
   "execution_count": null,
   "metadata": {},
   "outputs": [],
   "source": []
  },
  {
   "cell_type": "code",
   "execution_count": 3,
   "metadata": {},
   "outputs": [],
   "source": [
    "data = pd.read_csv('Train_mel.csv')\n",
    "test = pd.read_csv('test.csv')"
   ]
  },
  {
   "cell_type": "markdown",
   "metadata": {},
   "source": [
    "swap_label = {x:y for x,y in zip(data.label.unique(),range(len(data.label.unique())))}"
   ]
  },
  {
   "cell_type": "markdown",
   "metadata": {},
   "source": [
    "data.label.replace(swap_label,inplace=True)"
   ]
  },
  {
   "cell_type": "code",
   "execution_count": 4,
   "metadata": {},
   "outputs": [
    {
     "data": {
      "text/html": [
       "<div>\n",
       "<style scoped>\n",
       "    .dataframe tbody tr th:only-of-type {\n",
       "        vertical-align: middle;\n",
       "    }\n",
       "\n",
       "    .dataframe tbody tr th {\n",
       "        vertical-align: top;\n",
       "    }\n",
       "\n",
       "    .dataframe thead th {\n",
       "        text-align: right;\n",
       "    }\n",
       "</style>\n",
       "<table border=\"1\" class=\"dataframe\">\n",
       "  <thead>\n",
       "    <tr style=\"text-align: right;\">\n",
       "      <th></th>\n",
       "      <th>fn</th>\n",
       "      <th>label</th>\n",
       "      <th>Sample_Length</th>\n",
       "      <th>Noise_fn</th>\n",
       "      <th>Noise_Amplitude</th>\n",
       "      <th>dB_Noise_SPL</th>\n",
       "      <th>Clip_Group</th>\n",
       "      <th>Prob_Accuracy</th>\n",
       "      <th>Audio_amplitude</th>\n",
       "      <th>dB_Audio_SPL</th>\n",
       "      <th>mel_path</th>\n",
       "    </tr>\n",
       "  </thead>\n",
       "  <tbody>\n",
       "    <tr>\n",
       "      <th>0</th>\n",
       "      <td>PadSampleAudio/IV38R7F.wav</td>\n",
       "      <td>akawuka</td>\n",
       "      <td>60858</td>\n",
       "      <td>Noise_clip/IV38R7F.wav</td>\n",
       "      <td>0.008996</td>\n",
       "      <td>35</td>\n",
       "      <td>best</td>\n",
       "      <td>1.0</td>\n",
       "      <td>0.721681</td>\n",
       "      <td>73</td>\n",
       "      <td>mel/IV38R7F.png</td>\n",
       "    </tr>\n",
       "    <tr>\n",
       "      <th>1</th>\n",
       "      <td>PadSampleAudio/KM4SKWT.wav</td>\n",
       "      <td>banana</td>\n",
       "      <td>60858</td>\n",
       "      <td>Noise_clip/KM4SKWT.wav</td>\n",
       "      <td>0.356834</td>\n",
       "      <td>67</td>\n",
       "      <td>bad</td>\n",
       "      <td>0.2</td>\n",
       "      <td>0.966937</td>\n",
       "      <td>75</td>\n",
       "      <td>mel/KM4SKWT.png</td>\n",
       "    </tr>\n",
       "    <tr>\n",
       "      <th>2</th>\n",
       "      <td>PadSampleAudio/F5POSU9.wav</td>\n",
       "      <td>obulwadde</td>\n",
       "      <td>60858</td>\n",
       "      <td>Noise_clip/F5POSU9.wav</td>\n",
       "      <td>0.782890</td>\n",
       "      <td>74</td>\n",
       "      <td>bad</td>\n",
       "      <td>0.2</td>\n",
       "      <td>1.052848</td>\n",
       "      <td>76</td>\n",
       "      <td>mel/F5POSU9.png</td>\n",
       "    </tr>\n",
       "    <tr>\n",
       "      <th>3</th>\n",
       "      <td>PadSampleAudio/MMVDXG2.wav</td>\n",
       "      <td>nnyaanya</td>\n",
       "      <td>60858</td>\n",
       "      <td>Noise_clip/MMVDXG2.wav</td>\n",
       "      <td>0.015667</td>\n",
       "      <td>40</td>\n",
       "      <td>good</td>\n",
       "      <td>0.7</td>\n",
       "      <td>0.442655</td>\n",
       "      <td>69</td>\n",
       "      <td>mel/MMVDXG2.png</td>\n",
       "    </tr>\n",
       "    <tr>\n",
       "      <th>4</th>\n",
       "      <td>PadSampleAudio/9TVM96F.wav</td>\n",
       "      <td>pampu</td>\n",
       "      <td>60858</td>\n",
       "      <td>Noise_clip/9TVM96F.wav</td>\n",
       "      <td>0.743068</td>\n",
       "      <td>73</td>\n",
       "      <td>bad</td>\n",
       "      <td>0.2</td>\n",
       "      <td>0.765559</td>\n",
       "      <td>73</td>\n",
       "      <td>mel/9TVM96F.png</td>\n",
       "    </tr>\n",
       "  </tbody>\n",
       "</table>\n",
       "</div>"
      ],
      "text/plain": [
       "                           fn      label  Sample_Length  \\\n",
       "0  PadSampleAudio/IV38R7F.wav    akawuka          60858   \n",
       "1  PadSampleAudio/KM4SKWT.wav     banana          60858   \n",
       "2  PadSampleAudio/F5POSU9.wav  obulwadde          60858   \n",
       "3  PadSampleAudio/MMVDXG2.wav   nnyaanya          60858   \n",
       "4  PadSampleAudio/9TVM96F.wav      pampu          60858   \n",
       "\n",
       "                 Noise_fn  Noise_Amplitude  dB_Noise_SPL Clip_Group  \\\n",
       "0  Noise_clip/IV38R7F.wav         0.008996            35       best   \n",
       "1  Noise_clip/KM4SKWT.wav         0.356834            67        bad   \n",
       "2  Noise_clip/F5POSU9.wav         0.782890            74        bad   \n",
       "3  Noise_clip/MMVDXG2.wav         0.015667            40       good   \n",
       "4  Noise_clip/9TVM96F.wav         0.743068            73        bad   \n",
       "\n",
       "   Prob_Accuracy  Audio_amplitude  dB_Audio_SPL         mel_path  \n",
       "0            1.0         0.721681            73  mel/IV38R7F.png  \n",
       "1            0.2         0.966937            75  mel/KM4SKWT.png  \n",
       "2            0.2         1.052848            76  mel/F5POSU9.png  \n",
       "3            0.7         0.442655            69  mel/MMVDXG2.png  \n",
       "4            0.2         0.765559            73  mel/9TVM96F.png  "
      ]
     },
     "execution_count": 4,
     "metadata": {},
     "output_type": "execute_result"
    }
   ],
   "source": [
    "data.head()"
   ]
  },
  {
   "cell_type": "code",
   "execution_count": 5,
   "metadata": {},
   "outputs": [],
   "source": [
    "X = data[['mel_path','label']]\n",
    "train_data , val_data = train_test_split(X,stratify = X.label,test_size = 0.25,random_state = 42)"
   ]
  },
  {
   "cell_type": "code",
   "execution_count": 6,
   "metadata": {},
   "outputs": [],
   "source": [
    "data__data = X.copy().to_records(index = False)\n",
    "test_test  = list(zip(test.copy().mel_path,range(len(test))))"
   ]
  },
  {
   "cell_type": "code",
   "execution_count": 7,
   "metadata": {},
   "outputs": [],
   "source": [
    "train_tuple_data = train_data[['mel_path','label']].to_records(index =False)\n",
    "val_tuple_data = val_data[['mel_path','label']].to_records(index =False)"
   ]
  },
  {
   "cell_type": "code",
   "execution_count": 8,
   "metadata": {},
   "outputs": [
    {
     "data": {
      "text/plain": [
       "('mel/6E2BPU5.png', 'ensiringanyi')"
      ]
     },
     "execution_count": 8,
     "metadata": {},
     "output_type": "execute_result"
    }
   ],
   "source": [
    "train_tuple_data[0]"
   ]
  },
  {
   "cell_type": "code",
   "execution_count": 9,
   "metadata": {},
   "outputs": [],
   "source": [
    " def load_images(tuple_data):\n",
    "    mel_images = []\n",
    "    labels = []\n",
    "    for filename,label in tuple_data:\n",
    "        photo = load_img(filename,target_size=(64,64))\n",
    "        photo = img_to_array(photo)\n",
    "        photo.astype('float32')\n",
    "        photo /=255.0\n",
    "        mel_images.append(photo)\n",
    "        labels.append(label)\n",
    "    mel_images  = np.asarray(mel_images)\n",
    "    labels = np.asarray(labels)\n",
    "    return mel_images,labels\n"
   ]
  },
  {
   "cell_type": "code",
   "execution_count": 10,
   "metadata": {},
   "outputs": [],
   "source": [
    "def load_test_images(tuple_data):\n",
    "    mel_images = []\n",
    "    for filename,_ in tuple_data:\n",
    "        photo = load_img(filename,target_size=(64,64))\n",
    "        photo = img_to_array(photo)\n",
    "        photo.astype('float32')\n",
    "        photo /=255.0\n",
    "        mel_images.append(photo)\n",
    "    mel_images  = np.asarray(mel_images)\n",
    "    return mel_images\n"
   ]
  },
  {
   "cell_type": "code",
   "execution_count": 10,
   "metadata": {},
   "outputs": [],
   "source": [
    "X_mel_images,labels = load_images(data__data)"
   ]
  },
  {
   "cell_type": "code",
   "execution_count": 11,
   "metadata": {},
   "outputs": [],
   "source": [
    "train_mel_images,train_labels = load_images(train_tuple_data)\n",
    "val_mel_images,val_labels = load_images(val_tuple_data)"
   ]
  },
  {
   "cell_type": "code",
   "execution_count": 12,
   "metadata": {},
   "outputs": [],
   "source": [
    "test_mel_images = load_test_images(test_test)"
   ]
  },
  {
   "cell_type": "code",
   "execution_count": 12,
   "metadata": {},
   "outputs": [],
   "source": [
    "one_hot = OneHotEncoder(sparse=False).fit(train_labels.reshape(-1,1))\n",
    "train_label_hot = one_hot.transform(train_labels.reshape(-1,1))\n",
    "val_label_hot = one_hot.transform(val_labels.reshape(-1,1))"
   ]
  },
  {
   "cell_type": "code",
   "execution_count": 13,
   "metadata": {},
   "outputs": [],
   "source": [
    "col_names = [x.split('_')[1] for x in one_hot.get_feature_names()]"
   ]
  },
  {
   "cell_type": "markdown",
   "metadata": {},
   "source": [
    "scaler = StandardScaler()\n",
    "X_train = scaler.fit_transform(train_mel_images.reshape(-1, train_mel_images.shape[-1])).reshape(train_mel_images.shape)"
   ]
  },
  {
   "cell_type": "markdown",
   "metadata": {},
   "source": [
    "X_val = scaler.transform(val_mel_images.reshape(-1, val_mel_images.shape[-1])).reshape(val_mel_images.shape)"
   ]
  },
  {
   "cell_type": "code",
   "execution_count": 51,
   "metadata": {},
   "outputs": [],
   "source": [
    "python_random.shuffle([1,2,3,4])"
   ]
  },
  {
   "cell_type": "code",
   "execution_count": 143,
   "metadata": {},
   "outputs": [],
   "source": []
  },
  {
   "cell_type": "code",
   "execution_count": 266,
   "metadata": {},
   "outputs": [
    {
     "data": {
      "text/plain": [
       "0.9033613935792695"
      ]
     },
     "execution_count": 266,
     "metadata": {},
     "output_type": "execute_result"
    }
   ],
   "source": [
    "np.random.seed(42)\n",
    "max(abs(np.random.normal(0.55,0.09,4431)))"
   ]
  },
  {
   "cell_type": "code",
   "execution_count": null,
   "metadata": {},
   "outputs": [],
   "source": []
  },
  {
   "cell_type": "code",
   "execution_count": 170,
   "metadata": {},
   "outputs": [],
   "source": [
    "def generate_rand(length,rand_state = 42):\n",
    "    np.random.seed(rand_state)\n",
    "    list_ = []\n",
    "    for i in range(length+ 150):\n",
    "        num = np.random.randint(0,length)\n",
    "        list_.append(num)\n",
    "    return list_\n",
    "\n",
    "def mix_up(dataset,dataset_label,rand_state = 42):\n",
    "    new_dataset = []\n",
    "    new_dataset_label = []\n",
    "    np.random.seed(rand_state)\n",
    "    length = len(dataset)\n",
    "    rand_index = generate_rand(length)\n",
    "    alpha_range = abs(np.random.normal(0.6,0.05,length))\n",
    "    for index in range(length):\n",
    "        image1 = dataset[index]\n",
    "        label1 = dataset_label[index]\n",
    "        image2 = dataset[rand_index[index]]\n",
    "        label2 = dataset_label[rand_index[index]]\n",
    "        print(index,'___ ',rand_index[index],'__:::::::::__',np.argmax(label1),'____',np.argmax(label2))\n",
    "        if np.argmax(label1) == np.argmax(label2):\n",
    "            image2 = dataset[rand_index[index+1]]\n",
    "            label2 = dataset_label[rand_index[index+1]]\n",
    "        \n",
    "        alpha1 = round(alpha_range[index],2)\n",
    "        alpha2 = 1 - alpha1\n",
    "        alpha2 = round(alpha2,2)\n",
    "        \n",
    "        new_image = alpha1 * image1 + alpha2 * image2\n",
    "        new_label = alpha1 * label1 + alpha2 * label2\n",
    "        new_dataset.append(new_image)\n",
    "        new_dataset_label.append(new_label)\n",
    "    return np.array(new_dataset),np.array(new_dataset_label)"
   ]
  },
  {
   "cell_type": "code",
   "execution_count": 171,
   "metadata": {},
   "outputs": [
    {
     "data": {
      "text/plain": [
       "(831, 64, 64, 3)"
      ]
     },
     "execution_count": 171,
     "metadata": {},
     "output_type": "execute_result"
    }
   ],
   "source": [
    "train_mel_images.shape"
   ]
  },
  {
   "cell_type": "code",
   "execution_count": 172,
   "metadata": {},
   "outputs": [
    {
     "data": {
      "text/plain": [
       "(831, 193)"
      ]
     },
     "execution_count": 172,
     "metadata": {},
     "output_type": "execute_result"
    }
   ],
   "source": [
    "train_label_hot.shape"
   ]
  },
  {
   "cell_type": "code",
   "execution_count": 173,
   "metadata": {},
   "outputs": [],
   "source": [
    "x_img = train_mel_images[:35]\n",
    "x_lab = train_label_hot[:35]"
   ]
  },
  {
   "cell_type": "code",
   "execution_count": 304,
   "metadata": {},
   "outputs": [],
   "source": [
    "b= x_img[1][:,:,0]\n",
    "c = x_img[1][:,:,2]"
   ]
  },
  {
   "cell_type": "code",
   "execution_count": 290,
   "metadata": {},
   "outputs": [
    {
     "data": {
      "text/plain": [
       "<matplotlib.image.AxesImage at 0x138d973e108>"
      ]
     },
     "execution_count": 290,
     "metadata": {},
     "output_type": "execute_result"
    },
    {
     "data": {
      "image/png": "[encoded data removed]",
      "text/plain": [
       "<Figure size 432x288 with 1 Axes>"
      ]
     },
     "metadata": {
      "needs_background": "light"
     },
     "output_type": "display_data"
    }
   ],
   "source": [
    "one_ch_img = x_img[1][:,:,1]\n",
    "plt.imshow(one_ch_img)"
   ]
  },
  {
   "cell_type": "code",
   "execution_count": 281,
   "metadata": {},
   "outputs": [
    {
     "data": {
      "text/plain": [
       "<matplotlib.image.AxesImage at 0x138d9432c08>"
      ]
     },
     "execution_count": 281,
     "metadata": {},
     "output_type": "execute_result"
    },
    {
     "data": {
      "image/png": "[encoded data removed]",
      "text/plain": [
       "<Figure size 432x288 with 1 Axes>"
      ]
     },
     "metadata": {
      "needs_background": "light"
     },
     "output_type": "display_data"
    }
   ],
   "source": [
    "plt.imshow(x_img[1])"
   ]
  },
  {
   "cell_type": "code",
   "execution_count": 294,
   "metadata": {},
   "outputs": [],
   "source": [
    "import random"
   ]
  },
  {
   "cell_type": "code",
   "execution_count": 295,
   "metadata": {},
   "outputs": [],
   "source": [
    "def spec_augment(spec: np.ndarray, num_mask=2, \n",
    "                 freq_masking_max_percentage=0.15, time_masking_max_percentage=0.15):\n",
    "    random.seed(41)\n",
    "    np.random.seed(43)\n",
    "    spec = spec.copy()\n",
    "    for i in range(num_mask):\n",
    "        all_frames_num, all_freqs_num = spec.shape\n",
    "        freq_percentage = random.uniform(0.0, freq_masking_max_percentage)\n",
    "        \n",
    "        num_freqs_to_mask = int(freq_percentage * all_freqs_num)\n",
    "        f0 = np.random.uniform(low=0.0, high=all_freqs_num - num_freqs_to_mask)\n",
    "        f0 = int(f0)\n",
    "        spec[:, f0:f0 + num_freqs_to_mask] = 0\n",
    "\n",
    "        time_percentage = random.uniform(0.0, time_masking_max_percentage)\n",
    "        \n",
    "        num_frames_to_mask = int(time_percentage * all_frames_num)\n",
    "        t0 = np.random.uniform(low=0.0, high=all_frames_num - num_frames_to_mask)\n",
    "        t0 = int(t0)\n",
    "        spec[t0:t0 + num_frames_to_mask, :] = 0\n",
    "    \n",
    "    return spec\n",
    "    "
   ]
  },
  {
   "cell_type": "code",
   "execution_count": 305,
   "metadata": {},
   "outputs": [
    {
     "data": {
      "text/plain": [
       "<matplotlib.image.AxesImage at 0x138d98f4248>"
      ]
     },
     "execution_count": 305,
     "metadata": {},
     "output_type": "execute_result"
    },
    {
     "data": {
      "image/png": "[encoded data removed]",
      "text/plain": [
       "<Figure size 432x288 with 1 Axes>"
      ]
     },
     "metadata": {
      "needs_background": "light"
     },
     "output_type": "display_data"
    }
   ],
   "source": [
    "spec_a_img = spec_augment(one_ch_img)\n",
    "plt.imshow(spec_a_img)"
   ]
  },
  {
   "cell_type": "code",
   "execution_count": 310,
   "metadata": {},
   "outputs": [
    {
     "data": {
      "text/plain": [
       "<matplotlib.image.AxesImage at 0x138d9abb188>"
      ]
     },
     "execution_count": 310,
     "metadata": {},
     "output_type": "execute_result"
    },
    {
     "data": {
      "image/png": "[encoded data removed]",
      "text/plain": [
       "<Figure size 432x288 with 1 Axes>"
      ]
     },
     "metadata": {
      "needs_background": "light"
     },
     "output_type": "display_data"
    }
   ],
   "source": [
    "full_img = np.stack([spec_a_img,b,spec_a_img],axis = 2)\n",
    "plt.imshow(full_img)"
   ]
  },
  {
   "cell_type": "code",
   "execution_count": 271,
   "metadata": {},
   "outputs": [
    {
     "data": {
      "text/plain": [
       "(64, 64, 3)"
      ]
     },
     "execution_count": 271,
     "metadata": {},
     "output_type": "execute_result"
    }
   ],
   "source": [
    "x_img[0].shape"
   ]
  },
  {
   "cell_type": "code",
   "execution_count": 174,
   "metadata": {},
   "outputs": [
    {
     "name": "stdout",
     "output_type": "stream",
     "text": [
      "0 ___  28 __:::::::::__ 80 ____ 164\n",
      "1 ___  14 __:::::::::__ 109 ____ 9\n",
      "2 ___  7 __:::::::::__ 67 ____ 79\n",
      "3 ___  20 __:::::::::__ 107 ____ 26\n",
      "4 ___  18 __:::::::::__ 153 ____ 14\n",
      "5 ___  22 __:::::::::__ 183 ____ 83\n",
      "6 ___  10 __:::::::::__ 127 ____ 188\n",
      "7 ___  10 __:::::::::__ 79 ____ 188\n",
      "8 ___  23 __:::::::::__ 173 ____ 85\n",
      "9 ___  23 __:::::::::__ 48 ____ 85\n",
      "10 ___  2 __:::::::::__ 188 ____ 67\n",
      "11 ___  21 __:::::::::__ 181 ____ 188\n",
      "12 ___  1 __:::::::::__ 191 ____ 109\n",
      "13 ___  23 __:::::::::__ 32 ____ 85\n",
      "14 ___  29 __:::::::::__ 9 ____ 48\n",
      "15 ___  1 __:::::::::__ 44 ____ 109\n",
      "16 ___  20 __:::::::::__ 27 ____ 26\n",
      "17 ___  32 __:::::::::__ 93 ____ 121\n",
      "18 ___  11 __:::::::::__ 14 ____ 181\n",
      "19 ___  21 __:::::::::__ 22 ____ 188\n",
      "20 ___  24 __:::::::::__ 26 ____ 120\n",
      "21 ___  26 __:::::::::__ 188 ____ 18\n",
      "22 ___  27 __:::::::::__ 83 ____ 160\n",
      "23 ___  15 __:::::::::__ 85 ____ 44\n",
      "24 ___  14 __:::::::::__ 120 ____ 9\n",
      "25 ___  2 __:::::::::__ 120 ____ 67\n",
      "26 ___  6 __:::::::::__ 18 ____ 127\n",
      "27 ___  20 __:::::::::__ 160 ____ 26\n",
      "28 ___  8 __:::::::::__ 164 ____ 173\n",
      "29 ___  17 __:::::::::__ 48 ____ 93\n",
      "30 ___  3 __:::::::::__ 49 ____ 107\n",
      "31 ___  24 __:::::::::__ 127 ____ 120\n",
      "32 ___  13 __:::::::::__ 121 ____ 32\n",
      "33 ___  8 __:::::::::__ 104 ____ 173\n",
      "34 ___  25 __:::::::::__ 69 ____ 120\n"
     ]
    }
   ],
   "source": [
    "a,b = mix_up(x_img,x_lab)"
   ]
  },
  {
   "cell_type": "code",
   "execution_count": 132,
   "metadata": {},
   "outputs": [
    {
     "name": "stdout",
     "output_type": "stream",
     "text": [
      "0 ___  1\n",
      "1 ___  26\n",
      "2 ___  10\n",
      "3 ___  9\n",
      "4 ___  22\n",
      "5 ___  21\n",
      "6 ___  4\n",
      "7 ___  3\n",
      "8 ___  5\n",
      "9 ___  11\n",
      "10 ___  10\n",
      "11 ___  14\n",
      "12 ___  29\n",
      "13 ___  18\n",
      "14 ___  29\n",
      "15 ___  25\n",
      "16 ___  24\n",
      "17 ___  29\n",
      "18 ___  6\n",
      "19 ___  21\n",
      "20 ___  22\n",
      "21 ___  20\n",
      "22 ___  5\n",
      "23 ___  0\n",
      "24 ___  5\n",
      "25 ___  20\n",
      "26 ___  19\n",
      "27 ___  19\n",
      "28 ___  21\n",
      "29 ___  21\n"
     ]
    }
   ],
   "source": [
    "a,b = mix_up(x_img,x_lab)"
   ]
  },
  {
   "cell_type": "code",
   "execution_count": 126,
   "metadata": {},
   "outputs": [
    {
     "data": {
      "text/plain": [
       "(30, 64, 64, 3)"
      ]
     },
     "execution_count": 126,
     "metadata": {},
     "output_type": "execute_result"
    }
   ],
   "source": [
    "np.array(a).shape"
   ]
  },
  {
   "cell_type": "code",
   "execution_count": 175,
   "metadata": {},
   "outputs": [
    {
     "data": {
      "text/plain": [
       "<matplotlib.image.AxesImage at 0x138d8cef9c8>"
      ]
     },
     "execution_count": 175,
     "metadata": {},
     "output_type": "execute_result"
    },
    {
     "data": {
      "image/png": "[encoded data removed]",
      "text/plain": [
       "<Figure size 432x288 with 1 Axes>"
      ]
     },
     "metadata": {
      "needs_background": "light"
     },
     "output_type": "display_data"
    }
   ],
   "source": [
    "plt.imshow(a[0])"
   ]
  },
  {
   "cell_type": "code",
   "execution_count": 176,
   "metadata": {},
   "outputs": [
    {
     "data": {
      "text/plain": [
       "0.62"
      ]
     },
     "execution_count": 176,
     "metadata": {},
     "output_type": "execute_result"
    }
   ],
   "source": [
    "b[0][164]"
   ]
  },
  {
   "cell_type": "code",
   "execution_count": 178,
   "metadata": {},
   "outputs": [
    {
     "data": {
      "text/plain": [
       "array([0.  , 0.  , 0.  , 0.  , 0.  , 0.  , 0.  , 0.  , 0.  , 0.  , 0.  ,\n",
       "       0.  , 0.  , 0.  , 0.71, 0.  , 0.  , 0.  , 0.  , 0.  , 0.  , 0.  ,\n",
       "       0.  , 0.  , 0.  , 0.  , 0.  , 0.  , 0.  , 0.  , 0.  , 0.  , 0.  ,\n",
       "       0.  , 0.  , 0.  , 0.  , 0.  , 0.  , 0.  , 0.  , 0.  , 0.  , 0.  ,\n",
       "       0.  , 0.  , 0.  , 0.  , 0.  , 0.  , 0.  , 0.  , 0.  , 0.  , 0.  ,\n",
       "       0.  , 0.  , 0.  , 0.  , 0.  , 0.  , 0.  , 0.  , 0.  , 0.  , 0.  ,\n",
       "       0.  , 0.  , 0.  , 0.  , 0.  , 0.  , 0.  , 0.  , 0.  , 0.  , 0.  ,\n",
       "       0.  , 0.  , 0.  , 0.  , 0.  , 0.  , 0.  , 0.  , 0.  , 0.  , 0.  ,\n",
       "       0.  , 0.  , 0.  , 0.  , 0.  , 0.  , 0.  , 0.  , 0.  , 0.  , 0.  ,\n",
       "       0.  , 0.  , 0.  , 0.  , 0.  , 0.  , 0.  , 0.  , 0.  , 0.  , 0.  ,\n",
       "       0.  , 0.  , 0.  , 0.  , 0.  , 0.  , 0.  , 0.  , 0.  , 0.  , 0.  ,\n",
       "       0.  , 0.  , 0.  , 0.  , 0.  , 0.  , 0.  , 0.  , 0.  , 0.  , 0.  ,\n",
       "       0.  , 0.  , 0.  , 0.  , 0.  , 0.  , 0.  , 0.  , 0.  , 0.  , 0.  ,\n",
       "       0.  , 0.  , 0.  , 0.  , 0.  , 0.  , 0.  , 0.  , 0.  , 0.  , 0.29,\n",
       "       0.  , 0.  , 0.  , 0.  , 0.  , 0.  , 0.  , 0.  , 0.  , 0.  , 0.  ,\n",
       "       0.  , 0.  , 0.  , 0.  , 0.  , 0.  , 0.  , 0.  , 0.  , 0.  , 0.  ,\n",
       "       0.  , 0.  , 0.  , 0.  , 0.  , 0.  , 0.  , 0.  , 0.  , 0.  , 0.  ,\n",
       "       0.  , 0.  , 0.  , 0.  , 0.  , 0.  ])"
      ]
     },
     "execution_count": 178,
     "metadata": {},
     "output_type": "execute_result"
    }
   ],
   "source": [
    "b[4]"
   ]
  },
  {
   "cell_type": "code",
   "execution_count": 80,
   "metadata": {},
   "outputs": [
    {
     "data": {
      "text/plain": [
       "0.00616510052"
      ]
     },
     "execution_count": 80,
     "metadata": {},
     "output_type": "execute_result"
    }
   ],
   "source": [
    "6.16510052e-03"
   ]
  },
  {
   "cell_type": "code",
   "execution_count": 110,
   "metadata": {},
   "outputs": [
    {
     "data": {
      "text/plain": [
       "0.2907759974838166"
      ]
     },
     "execution_count": 110,
     "metadata": {},
     "output_type": "execute_result"
    }
   ],
   "source": [
    "np.random.seed(42)\n",
    "abs(np.random.normal(0.33,0.01,length))"
   ]
  },
  {
   "cell_type": "code",
   "execution_count": 111,
   "metadata": {},
   "outputs": [
    {
     "data": {
      "text/plain": [
       "0.29"
      ]
     },
     "execution_count": 111,
     "metadata": {},
     "output_type": "execute_result"
    }
   ],
   "source": [
    "round(0.2907759974838166,2)"
   ]
  },
  {
   "cell_type": "code",
   "execution_count": 24,
   "metadata": {},
   "outputs": [],
   "source": [
    "def mix_up( X1, y1, X2, y2, ordered_outputs, target_lengths):\n",
    "        assert X1.shape[0] == y1.shape[0] == X2.shape[0] == y2.shape[0]\n",
    "        batch_size = X1.shape[0]\n",
    "        l = np.random.beta(mix_up_alpha, mix_up_alpha, batch_size)\n",
    "        X_l = l.reshape(batch_size, 1, 1, 1)\n",
    "        y_l = l.reshape(batch_size, 1)\n",
    "        X = X1 * X_l + X2 * (1-X_l)\n",
    "        target_dict = {}\n",
    "        i = 0\n",
    "        for output in ordered_outputs:\n",
    "            target_length = target_lengths[output]\n",
    "            target_dict[output] = y1[:, i: i + target_length] * y_l + y2[:, i: i + target_length] * (1 - y_l)\n",
    "            i += target_length\n",
    "        y = None\n",
    "        for output, target in target_dict.items():\n",
    "            if y is None:\n",
    "                y = target\n",
    "            else:\n",
    "                y = np.concatenate((y, target), axis=1)\n",
    "        return X, y"
   ]
  },
  {
   "cell_type": "code",
   "execution_count": 27,
   "metadata": {},
   "outputs": [],
   "source": [
    "a = train_mel_images[0]\n",
    "b = train_mel_images[1]"
   ]
  },
  {
   "cell_type": "code",
   "execution_count": 34,
   "metadata": {},
   "outputs": [
    {
     "data": {
      "text/plain": [
       "<matplotlib.image.AxesImage at 0x138d8aeee48>"
      ]
     },
     "execution_count": 34,
     "metadata": {},
     "output_type": "execute_result"
    },
    {
     "data": {
      "image/png": "[encoded data removed]",
      "text/plain": [
       "<Figure size 432x288 with 1 Axes>"
      ]
     },
     "metadata": {
      "needs_background": "light"
     },
     "output_type": "display_data"
    }
   ],
   "source": [
    "plt.imshow(b)"
   ]
  },
  {
   "cell_type": "code",
   "execution_count": 35,
   "metadata": {},
   "outputs": [
    {
     "data": {
      "text/plain": [
       "<matplotlib.image.AxesImage at 0x138d8b59c88>"
      ]
     },
     "execution_count": 35,
     "metadata": {},
     "output_type": "execute_result"
    },
    {
     "data": {
      "image/png": "[encoded data removed]",
      "text/plain": [
       "<Figure size 432x288 with 1 Axes>"
      ]
     },
     "metadata": {
      "needs_background": "light"
     },
     "output_type": "display_data"
    }
   ],
   "source": [
    "plt.imshow(a)"
   ]
  },
  {
   "cell_type": "code",
   "execution_count": 46,
   "metadata": {},
   "outputs": [
    {
     "data": {
      "text/plain": [
       "80"
      ]
     },
     "execution_count": 46,
     "metadata": {},
     "output_type": "execute_result"
    }
   ],
   "source": [
    "np.argmax(aa)"
   ]
  },
  {
   "cell_type": "code",
   "execution_count": 47,
   "metadata": {},
   "outputs": [
    {
     "data": {
      "text/plain": [
       "109"
      ]
     },
     "execution_count": 47,
     "metadata": {},
     "output_type": "execute_result"
    }
   ],
   "source": [
    "np.argmax(bb)"
   ]
  },
  {
   "cell_type": "code",
   "execution_count": 44,
   "metadata": {},
   "outputs": [
    {
     "data": {
      "text/plain": [
       "array([0.3, 0. , 0. , 0. , 0. , 0. , 0. , 0. , 0. , 0. , 0. , 0. , 0. ,\n",
       "       0. , 0. , 0. , 0. , 0. , 0. , 0. , 0. , 0. , 0. , 0. , 0. , 0. ,\n",
       "       0. , 0. , 0. , 0.7, 0. , 0. , 0. , 0. , 0. , 0. , 0. , 0. , 0. ,\n",
       "       0. , 0. , 0. , 0. , 0. , 0. , 0. , 0. , 0. , 0. , 0. , 0. , 0. ,\n",
       "       0. , 0. , 0. , 0. , 0. , 0. , 0. , 0. , 0. , 0. , 0. , 0. , 0. ,\n",
       "       0. , 0. , 0. , 0. , 0. , 0. , 0. , 0. , 0. , 0. , 0. , 0. , 0. ,\n",
       "       0. , 0. , 0. , 0. , 0. , 0. , 0. , 0. , 0. , 0. , 0. , 0. , 0. ,\n",
       "       0. , 0. , 0. , 0. , 0. , 0. , 0. , 0. , 0. , 0. , 0. , 0. , 0. ,\n",
       "       0. , 0. , 0. , 0. , 0. , 0. , 0. , 0. , 0. ])"
      ]
     },
     "execution_count": 44,
     "metadata": {},
     "output_type": "execute_result"
    }
   ],
   "source": [
    "(aa *0.3 + bb * 0.7)[80:]"
   ]
  },
  {
   "cell_type": "code",
   "execution_count": 36,
   "metadata": {},
   "outputs": [
    {
     "data": {
      "text/plain": [
       "<matplotlib.image.AxesImage at 0x138d8bcf088>"
      ]
     },
     "execution_count": 36,
     "metadata": {},
     "output_type": "execute_result"
    },
    {
     "data": {
      "image/png": "[encoded data removed]",
      "text/plain": [
       "<Figure size 432x288 with 1 Axes>"
      ]
     },
     "metadata": {
      "needs_background": "light"
     },
     "output_type": "display_data"
    }
   ],
   "source": [
    "plt.imshow(a *0.3 + b * 0.7)"
   ]
  },
  {
   "cell_type": "code",
   "execution_count": 23,
   "metadata": {},
   "outputs": [],
   "source": [
    "aa = train_label_hot[0]\n",
    "bb = train_label_hot[1]"
   ]
  },
  {
   "cell_type": "code",
   "execution_count": null,
   "metadata": {},
   "outputs": [],
   "source": [
    "mix_up()"
   ]
  },
  {
   "cell_type": "code",
   "execution_count": 19,
   "metadata": {},
   "outputs": [
    {
     "name": "stdout",
     "output_type": "stream",
     "text": [
      "tf.keras code in this scope will run on CPU\n"
     ]
    }
   ],
   "source": [
    "import os\n",
    "import tensorflow as tf\n",
    "os.environ['PYTHONHASHSEED']=str(43)\n",
    "os.environ['TF_DETERMINISTIC_OPS'] = '1'\n",
    "\n",
    "seed = 43\n",
    "tf.random.set_seed(seed)\n",
    "np.random.seed(seed)\n",
    "python_random.seed(seed)\n",
    "def conv_lstm_real():\n",
    "   \n",
    "    cnn = Sequential()\n",
    "     \n",
    "    # define CNN model\n",
    "    cnn.add(Conv2D(32, (3, 3), padding='same', input_shape=(64, 64, 3)))\n",
    "    cnn.add(MaxPooling2D((2, 2)))\n",
    "    cnn.add(Conv2D(16, (3, 3), padding='same'))\n",
    "    cnn.add(MaxPooling2D((2, 2)))\n",
    "    cnn.add(Conv2D(16, (3, 3), padding='same'))\n",
    "    cnn.add(MaxPooling2D((1, 3)))\n",
    "    cnn.add(Conv2D(32, (3, 3), padding='same'))\n",
    "    cnn.add(MaxPooling2D((2, 2)))\n",
    "\n",
    "    cnn.add(Flatten())\n",
    "    # define LSTM model\n",
    "    model = cnn\n",
    "   \n",
    "    model.add(Dense(512, activation='relu'))\n",
    "    model.add(Dropout(0.1))\n",
    "\n",
    "    model.add(Dense(256, activation='relu'))\n",
    "    model.add(Dropout(0.5))\n",
    "    model.add(Dense(512, activation='relu'))\n",
    "    model.add(Dropout(0.5))\n",
    "\n",
    "    model.add(Dense(193, activation='softmax'))\n",
    "    model.compile(optimizer='adam', loss='categorical_crossentropy')\n",
    "    return model\n",
    "train_mel_images__ = train_mel_images.reshape((-1,64,64,3))\n",
    "val_mel_images__ = val_mel_images.reshape((-1,64,64,3))\n",
    "es = EarlyStopping(monitor='val_loss',mode = 'min',patience=5,restore_best_weights=True)\n",
    "\n",
    "\n",
    "#model = conv_lstm()\n",
    "#model.fit(train_mel_images__,train_label_hot,batch_size=64,validation_data=(val_mel_images__,val_label_hot),epochs=100,callbacks=[es],validation_batch_size=64)\n",
    "os.environ['PYTHONHASHSEED']=str(43)\n",
    "os.environ['TF_DETERMINISTIC_OPS'] = 'True'\n",
    "\n",
    "seed = 43\n",
    "tf.random.set_seed(seed)\n",
    "np.random.seed(seed)\n",
    "python_random.seed(seed)\n",
    "with tf.device(\"gpu:0\"):\n",
    "    print(\"tf.keras code in this scope will run on CPU\")\n",
    "    os.environ['PYTHONHASHSEED']=str(43)\n",
    "    os.environ['TF_DETERMINISTIC_OPS'] = '1'\n",
    "\n",
    "    seed = 43\n",
    "    tf.random.set_seed(seed)\n",
    "    np.random.seed(seed)\n",
    "    python_random.seed(seed)\n",
    "    model = conv_lstm_real()\n",
    "    # model.fit(train_mel_images__,train_label_hot,batch_size=64,validation_data=(val_mel_images__,val_label_hot),epochs=100,callbacks=[es],shuffle=False)"
   ]
  },
  {
   "cell_type": "code",
   "execution_count": 20,
   "metadata": {},
   "outputs": [
    {
     "data": {
      "text/plain": [
       "'2.3.1'"
      ]
     },
     "execution_count": 20,
     "metadata": {},
     "output_type": "execute_result"
    }
   ],
   "source": [
    "tf.version.VERSION"
   ]
  },
  {
   "cell_type": "code",
   "execution_count": 22,
   "metadata": {},
   "outputs": [
    {
     "name": "stdout",
     "output_type": "stream",
     "text": [
      "9/9 [==============================] - 0s 4ms/step - loss: 5.2738\n"
     ]
    },
    {
     "data": {
      "text/plain": [
       "5.273844242095947"
      ]
     },
     "execution_count": 22,
     "metadata": {},
     "output_type": "execute_result"
    }
   ],
   "source": [
    "model.evaluate(val_mel_images__,val_label_hot) # ResNet50_model"
   ]
  },
  {
   "cell_type": "markdown",
   "metadata": {},
   "source": [
    "def conv_lstm_real():\n",
    "   \n",
    "    cnn = Sequential()\n",
    "     \n",
    "    # define CNN model\n",
    "    cnn.add(Conv2D(32, (3, 3), padding='same', input_shape=(64, 64, 3)))\n",
    "    cnn.add(MaxPooling2D((2, 2)))\n",
    "    \n",
    "    cnn.add(Conv2D(16, (3, 3), padding='same'))\n",
    "    cnn.add(MaxPooling2D((1, 3)))\n",
    "    cnn.add(Conv2D(32, (3, 3), padding='same'))\n",
    "    cnn.add(MaxPooling2D((2, 2)))\n",
    "\n",
    "    cnn.add(Flatten())\n",
    "    # define LSTM model\n",
    "    model = cnn\n",
    "   \n",
    "    model.add(Dense(512, activation='relu'))\n",
    "    model.add(Dropout(0.1))\n",
    "\n",
    "    model.add(Dense(256, activation='relu'))\n",
    "    model.add(Dropout(0.5))\n",
    "    model.add(Dense(512, activation='relu'))\n",
    "    model.add(Dropout(0.5))\n",
    "\n",
    "    model.add(Dense(193, activation='softmax'))\n",
    "    model.compile(optimizer='adam', loss='categorical_crossentropy')\n",
    "    return model\n",
    "with tf.device(\"cpu:0\"):\n",
    "    \n",
    "    model = conv_lstm_real()\n",
    "    custom_seeder(101)\n",
    "    model.fit(train_mel_images__,train_label_hot,batch_size=64,validation_data=(val_mel_images__,val_label_hot),epochs=100,callbacks=[es],validation_batch_size=64)"
   ]
  },
  {
   "cell_type": "code",
   "execution_count": 127,
   "metadata": {},
   "outputs": [
    {
     "name": "stdout",
     "output_type": "stream",
     "text": [
      "Epoch 1/100\n",
      "13/13 [==============================] - 3s 198ms/step - loss: 5.5225 - val_loss: 5.2518\n",
      "Epoch 2/100\n",
      "13/13 [==============================] - 2s 153ms/step - loss: 5.3555 - val_loss: 5.2332\n",
      "Epoch 3/100\n",
      "13/13 [==============================] - 2s 155ms/step - loss: 5.3212 - val_loss: 5.2286\n",
      "Epoch 4/100\n",
      "13/13 [==============================] - 2s 160ms/step - loss: 5.2884 - val_loss: 5.2243\n",
      "Epoch 5/100\n",
      "13/13 [==============================] - 2s 159ms/step - loss: 5.2646 - val_loss: 5.1866\n",
      "Epoch 6/100\n",
      "13/13 [==============================] - 2s 155ms/step - loss: 5.2586 - val_loss: 5.1650\n",
      "Epoch 7/100\n",
      "13/13 [==============================] - 2s 156ms/step - loss: 5.2036 - val_loss: 5.1291\n",
      "Epoch 8/100\n",
      "13/13 [==============================] - 2s 158ms/step - loss: 5.1465 - val_loss: 5.0792\n",
      "Epoch 9/100\n",
      "13/13 [==============================] - 2s 148ms/step - loss: 5.1036 - val_loss: 5.0511\n",
      "Epoch 10/100\n",
      "13/13 [==============================] - 2s 148ms/step - loss: 5.0550 - val_loss: 4.9846\n",
      "Epoch 11/100\n",
      "13/13 [==============================] - 2s 153ms/step - loss: 4.9893 - val_loss: 4.9522\n",
      "Epoch 12/100\n",
      "13/13 [==============================] - 2s 150ms/step - loss: 4.9549 - val_loss: 4.9229\n",
      "Epoch 13/100\n",
      "13/13 [==============================] - 2s 146ms/step - loss: 4.8904 - val_loss: 4.8857\n",
      "Epoch 14/100\n",
      "13/13 [==============================] - 2s 151ms/step - loss: 4.8374 - val_loss: 4.8667\n",
      "Epoch 15/100\n",
      "13/13 [==============================] - 2s 149ms/step - loss: 4.8106 - val_loss: 4.8309\n",
      "Epoch 16/100\n",
      "13/13 [==============================] - 2s 149ms/step - loss: 4.6774 - val_loss: 4.7732\n",
      "Epoch 17/100\n",
      "13/13 [==============================] - 2s 150ms/step - loss: 4.6300 - val_loss: 4.7414\n",
      "Epoch 18/100\n",
      "13/13 [==============================] - 2s 147ms/step - loss: 4.6055 - val_loss: 4.6578\n",
      "Epoch 19/100\n",
      "13/13 [==============================] - 2s 150ms/step - loss: 4.4825 - val_loss: 4.6405\n",
      "Epoch 20/100\n",
      "13/13 [==============================] - 2s 159ms/step - loss: 4.3930 - val_loss: 4.5761\n",
      "Epoch 21/100\n",
      "13/13 [==============================] - 2s 153ms/step - loss: 4.2369 - val_loss: 4.5499\n",
      "Epoch 22/100\n",
      "13/13 [==============================] - 2s 152ms/step - loss: 4.2169 - val_loss: 4.5021\n",
      "Epoch 23/100\n",
      "13/13 [==============================] - 2s 151ms/step - loss: 4.0547 - val_loss: 4.3443\n",
      "Epoch 24/100\n",
      "13/13 [==============================] - 2s 164ms/step - loss: 3.8863 - val_loss: 4.3792\n",
      "Epoch 25/100\n",
      "13/13 [==============================] - 2s 153ms/step - loss: 3.9059 - val_loss: 4.2549\n",
      "Epoch 26/100\n",
      "13/13 [==============================] - 2s 151ms/step - loss: 3.7200 - val_loss: 4.2814\n",
      "Epoch 27/100\n",
      "13/13 [==============================] - 2s 149ms/step - loss: 3.5127 - val_loss: 4.2409\n",
      "Epoch 28/100\n",
      "13/13 [==============================] - 2s 151ms/step - loss: 3.4134 - val_loss: 4.3201\n",
      "Epoch 29/100\n",
      "13/13 [==============================] - 2s 151ms/step - loss: 3.3418 - val_loss: 4.1955\n",
      "Epoch 30/100\n",
      "13/13 [==============================] - 2s 158ms/step - loss: 3.1861 - val_loss: 4.1350\n",
      "Epoch 31/100\n",
      "13/13 [==============================] - 2s 158ms/step - loss: 3.0737 - val_loss: 4.1012\n",
      "Epoch 32/100\n",
      "13/13 [==============================] - 2s 158ms/step - loss: 2.8096 - val_loss: 4.1272\n",
      "Epoch 33/100\n",
      "13/13 [==============================] - 2s 168ms/step - loss: 2.6954 - val_loss: 4.2336\n",
      "Epoch 34/100\n",
      "13/13 [==============================] - 2s 153ms/step - loss: 2.6446 - val_loss: 4.2366\n",
      "Epoch 35/100\n",
      "13/13 [==============================] - 2s 161ms/step - loss: 2.4587 - val_loss: 4.2029\n",
      "Epoch 36/100\n",
      "13/13 [==============================] - 2s 153ms/step - loss: 2.3186 - val_loss: 4.1579\n",
      "Epoch 37/100\n",
      "13/13 [==============================] - 2s 156ms/step - loss: 2.1077 - val_loss: 4.3197\n",
      "Epoch 38/100\n",
      "13/13 [==============================] - 2s 158ms/step - loss: 2.0355 - val_loss: 4.4654\n",
      "Epoch 39/100\n",
      "13/13 [==============================] - 2s 162ms/step - loss: 1.9091 - val_loss: 4.4120\n",
      "Epoch 40/100\n",
      "13/13 [==============================] - 2s 165ms/step - loss: 1.7931 - val_loss: 4.7967\n",
      "Epoch 41/100\n",
      "13/13 [==============================] - 2s 158ms/step - loss: 1.7436 - val_loss: 4.6606\n",
      "Epoch 42/100\n",
      "13/13 [==============================] - 2s 160ms/step - loss: 1.5365 - val_loss: 4.9992\n",
      "Epoch 43/100\n",
      "13/13 [==============================] - 2s 155ms/step - loss: 1.5102 - val_loss: 4.9240\n",
      "Epoch 44/100\n",
      "13/13 [==============================] - 2s 158ms/step - loss: 1.3583 - val_loss: 5.0982\n",
      "Epoch 45/100\n",
      "13/13 [==============================] - 2s 166ms/step - loss: 1.2917 - val_loss: 5.2833\n",
      "Epoch 46/100\n",
      "13/13 [==============================] - 2s 149ms/step - loss: 1.2863 - val_loss: 5.3427\n"
     ]
    }
   ],
   "source": [
    "def conv_lstm_real():\n",
    "   \n",
    "    cnn = Sequential()\n",
    "     \n",
    "    # define CNN model\n",
    "    cnn.add(Conv2D(32, (3, 3), padding='same', input_shape=(64, 64, 3)))\n",
    "    cnn.add(MaxPooling2D((2, 2)))\n",
    "    \n",
    "    cnn.add(Conv2D(16, (3, 3), padding='same'))\n",
    "    cnn.add(MaxPooling2D((1, 3)))\n",
    "    cnn.add(Conv2D(32, (3, 3), padding='same'))\n",
    "    cnn.add(MaxPooling2D((2,2)))\n",
    "  \n",
    "\n",
    "    cnn.add(Flatten())\n",
    "    # define LSTM model\n",
    "    model = cnn\n",
    "   \n",
    "    model.add(Dense(512, activation='linear'))\n",
    "    #model.add(Dropout(0.1))\n",
    "\n",
    "    model.add(Dense(256, activation='linear'))\n",
    "    model.add(Dropout(0.5))\n",
    "    model.add(Dense(512, activation='relu'))\n",
    "    model.add(Dropout(0.5))\n",
    "    model.add(Dense(256, activation='linear'))\n",
    "    model.add(Dropout(0.5))\n",
    "\n",
    "    model.add(Dense(193, activation='softmax'))\n",
    "    model.compile(optimizer='adam', loss='categorical_crossentropy')\n",
    "    return model\n",
    "with tf.device(\"cpu:0\"):\n",
    "    \n",
    "    model = conv_lstm_real()\n",
    "    custom_seeder(101)\n",
    "    model.fit(train_mel_images,train_label_hot,batch_size=64,validation_data=(val_mel_images,val_label_hot),epochs=100,callbacks=[es],validation_batch_size=64)"
   ]
  },
  {
   "cell_type": "code",
   "execution_count": 108,
   "metadata": {},
   "outputs": [
    {
     "name": "stdout",
     "output_type": "stream",
     "text": [
      "9/9 [==============================] - 0s 7ms/step - loss: 4.0608\n"
     ]
    },
    {
     "data": {
      "text/plain": [
       "4.060780048370361"
      ]
     },
     "execution_count": 108,
     "metadata": {},
     "output_type": "execute_result"
    }
   ],
   "source": [
    "model.evaluate(val_mel_images,val_label_hot) # ResNet50_model"
   ]
  },
  {
   "cell_type": "code",
   "execution_count": 128,
   "metadata": {},
   "outputs": [
    {
     "name": "stdout",
     "output_type": "stream",
     "text": [
      "9/9 [==============================] - 0s 7ms/step - loss: 4.1012\n"
     ]
    },
    {
     "data": {
      "text/plain": [
       "4.101215839385986"
      ]
     },
     "execution_count": 128,
     "metadata": {},
     "output_type": "execute_result"
    }
   ],
   "source": [
    "model.evaluate(val_mel_images,val_label_hot) # ResNet50_model"
   ]
  },
  {
   "cell_type": "code",
   "execution_count": 83,
   "metadata": {},
   "outputs": [
    {
     "name": "stdout",
     "output_type": "stream",
     "text": [
      "9/9 [==============================] - 0s 7ms/step - loss: 4.1554\n"
     ]
    },
    {
     "data": {
      "text/plain": [
       "4.155426502227783"
      ]
     },
     "execution_count": 83,
     "metadata": {},
     "output_type": "execute_result"
    }
   ],
   "source": [
    "model.evaluate(val_mel_images,val_label_hot) # ResNet50_model"
   ]
  },
  {
   "cell_type": "code",
   "execution_count": 90,
   "metadata": {},
   "outputs": [
    {
     "name": "stdout",
     "output_type": "stream",
     "text": [
      "9/9 [==============================] - 0s 7ms/step - loss: 4.1034\n"
     ]
    },
    {
     "data": {
      "text/plain": [
       "4.103447914123535"
      ]
     },
     "execution_count": 90,
     "metadata": {},
     "output_type": "execute_result"
    }
   ],
   "source": [
    "model.evaluate(val_mel_images,val_label_hot) # ResNet50_model"
   ]
  },
  {
   "cell_type": "code",
   "execution_count": 100,
   "metadata": {},
   "outputs": [
    {
     "name": "stdout",
     "output_type": "stream",
     "text": [
      "9/9 [==============================] - 0s 7ms/step - loss: 4.0963\n"
     ]
    },
    {
     "data": {
      "text/plain": [
       "4.09625768661499"
      ]
     },
     "execution_count": 100,
     "metadata": {},
     "output_type": "execute_result"
    }
   ],
   "source": [
    "model.evaluate(val_mel_images,val_label_hot) # ResNet50_model"
   ]
  },
  {
   "cell_type": "code",
   "execution_count": 102,
   "metadata": {},
   "outputs": [
    {
     "name": "stdout",
     "output_type": "stream",
     "text": [
      "9/9 [==============================] - 0s 7ms/step - loss: 4.0973\n"
     ]
    },
    {
     "data": {
      "text/plain": [
       "4.097270488739014"
      ]
     },
     "execution_count": 102,
     "metadata": {},
     "output_type": "execute_result"
    }
   ],
   "source": [
    "model.evaluate(val_mel_images,val_label_hot) # ResNet50_model"
   ]
  },
  {
   "cell_type": "code",
   "execution_count": 98,
   "metadata": {},
   "outputs": [
    {
     "name": "stdout",
     "output_type": "stream",
     "text": [
      "9/9 [==============================] - 0s 7ms/step - loss: 4.2183\n"
     ]
    },
    {
     "data": {
      "text/plain": [
       "4.218317985534668"
      ]
     },
     "execution_count": 98,
     "metadata": {},
     "output_type": "execute_result"
    }
   ],
   "source": [
    "model.evaluate(val_mel_images,val_label_hot) # ResNet50_model"
   ]
  },
  {
   "cell_type": "code",
   "execution_count": 54,
   "metadata": {},
   "outputs": [
    {
     "name": "stdout",
     "output_type": "stream",
     "text": [
      "9/9 [==============================] - 0s 5ms/step - loss: 4.2520\n"
     ]
    },
    {
     "data": {
      "text/plain": [
       "4.252000331878662"
      ]
     },
     "execution_count": 54,
     "metadata": {},
     "output_type": "execute_result"
    }
   ],
   "source": [
    "model.evaluate(val_mel_images__,val_label_hot) # ResNet50_model"
   ]
  },
  {
   "cell_type": "code",
   "execution_count": 58,
   "metadata": {},
   "outputs": [
    {
     "name": "stdout",
     "output_type": "stream",
     "text": [
      "9/9 [==============================] - 0s 4ms/step - loss: 4.3121\n"
     ]
    },
    {
     "data": {
      "text/plain": [
       "4.3120903968811035"
      ]
     },
     "execution_count": 58,
     "metadata": {},
     "output_type": "execute_result"
    }
   ],
   "source": [
    "model.evaluate(val_mel_images__,val_label_hot) # ResNet50_model"
   ]
  },
  {
   "cell_type": "code",
   "execution_count": 60,
   "metadata": {},
   "outputs": [
    {
     "name": "stdout",
     "output_type": "stream",
     "text": [
      "9/9 [==============================] - 0s 5ms/step - loss: 4.2107\n"
     ]
    },
    {
     "data": {
      "text/plain": [
       "4.21071720123291"
      ]
     },
     "execution_count": 60,
     "metadata": {},
     "output_type": "execute_result"
    }
   ],
   "source": [
    "model.evaluate(val_mel_images__,val_label_hot) # ResNet50_model"
   ]
  },
  {
   "cell_type": "code",
   "execution_count": 62,
   "metadata": {},
   "outputs": [
    {
     "name": "stdout",
     "output_type": "stream",
     "text": [
      "9/9 [==============================] - 0s 4ms/step - loss: 4.3225\n"
     ]
    },
    {
     "data": {
      "text/plain": [
       "4.322463035583496"
      ]
     },
     "execution_count": 62,
     "metadata": {},
     "output_type": "execute_result"
    }
   ],
   "source": [
    "model.evaluate(val_mel_images__,val_label_hot) # ResNet50_model"
   ]
  },
  {
   "cell_type": "code",
   "execution_count": 94,
   "metadata": {},
   "outputs": [
    {
     "name": "stdout",
     "output_type": "stream",
     "text": [
      "tf.keras code in this scope will run on CPU\n",
      "Epoch 1/100\n",
      "13/13 [==============================] - 2s 183ms/step - loss: 5.2930 - val_loss: 5.2554\n",
      "Epoch 2/100\n",
      "13/13 [==============================] - 2s 158ms/step - loss: 5.2572 - val_loss: 5.2427\n",
      "Epoch 3/100\n",
      "13/13 [==============================] - 2s 164ms/step - loss: 5.2437 - val_loss: 5.2322\n",
      "Epoch 4/100\n",
      "13/13 [==============================] - 2s 165ms/step - loss: 5.2405 - val_loss: 5.2297\n",
      "Epoch 5/100\n",
      "13/13 [==============================] - 2s 154ms/step - loss: 5.2281 - val_loss: 5.2311\n",
      "Epoch 6/100\n",
      "13/13 [==============================] - 2s 174ms/step - loss: 5.2278 - val_loss: 5.2267\n",
      "Epoch 7/100\n",
      "13/13 [==============================] - 2s 161ms/step - loss: 5.2240 - val_loss: 5.2159\n",
      "Epoch 8/100\n",
      "13/13 [==============================] - 2s 156ms/step - loss: 5.2199 - val_loss: 5.2161\n",
      "Epoch 9/100\n",
      "13/13 [==============================] - 2s 156ms/step - loss: 5.2212 - val_loss: 5.2194\n",
      "Epoch 10/100\n",
      "13/13 [==============================] - 2s 166ms/step - loss: 5.2105 - val_loss: 5.2125\n",
      "Epoch 11/100\n",
      "13/13 [==============================] - 2s 164ms/step - loss: 5.2102 - val_loss: 5.2059\n",
      "Epoch 12/100\n",
      "13/13 [==============================] - 2s 157ms/step - loss: 5.1924 - val_loss: 5.2079\n",
      "Epoch 13/100\n",
      "13/13 [==============================] - 2s 156ms/step - loss: 5.1856 - val_loss: 5.1933\n",
      "Epoch 14/100\n",
      "13/13 [==============================] - 2s 164ms/step - loss: 5.1712 - val_loss: 5.1706\n",
      "Epoch 15/100\n",
      "13/13 [==============================] - 2s 160ms/step - loss: 5.1154 - val_loss: 5.1444\n",
      "Epoch 16/100\n",
      "13/13 [==============================] - 2s 173ms/step - loss: 5.0918 - val_loss: 5.1039\n",
      "Epoch 17/100\n",
      "13/13 [==============================] - 2s 163ms/step - loss: 5.0383 - val_loss: 5.1035\n",
      "Epoch 18/100\n",
      "13/13 [==============================] - 2s 161ms/step - loss: 4.9846 - val_loss: 4.9925\n",
      "Epoch 19/100\n",
      "13/13 [==============================] - 2s 174ms/step - loss: 4.8946 - val_loss: 4.9714\n",
      "Epoch 20/100\n",
      "13/13 [==============================] - 2s 159ms/step - loss: 4.8645 - val_loss: 4.9206\n",
      "Epoch 21/100\n",
      "13/13 [==============================] - 2s 170ms/step - loss: 4.8355 - val_loss: 4.8549\n",
      "Epoch 22/100\n",
      "13/13 [==============================] - 2s 180ms/step - loss: 4.7017 - val_loss: 4.8257\n",
      "Epoch 23/100\n",
      "13/13 [==============================] - 2s 172ms/step - loss: 4.6413 - val_loss: 4.7837\n",
      "Epoch 24/100\n",
      "13/13 [==============================] - 2s 157ms/step - loss: 4.5554 - val_loss: 4.7238\n",
      "Epoch 25/100\n",
      "13/13 [==============================] - 2s 148ms/step - loss: 4.4832 - val_loss: 4.6900\n",
      "Epoch 26/100\n",
      "13/13 [==============================] - 2s 158ms/step - loss: 4.4091 - val_loss: 4.6528\n",
      "Epoch 27/100\n",
      "13/13 [==============================] - 2s 152ms/step - loss: 4.3179 - val_loss: 4.6138\n",
      "Epoch 28/100\n",
      "13/13 [==============================] - 2s 155ms/step - loss: 4.2050 - val_loss: 4.5889\n",
      "Epoch 29/100\n",
      "13/13 [==============================] - 2s 155ms/step - loss: 4.1325 - val_loss: 4.5747\n",
      "Epoch 30/100\n",
      "13/13 [==============================] - 2s 150ms/step - loss: 4.1088 - val_loss: 4.5769\n",
      "Epoch 31/100\n",
      "13/13 [==============================] - 2s 155ms/step - loss: 3.9613 - val_loss: 4.5042\n",
      "Epoch 32/100\n",
      "13/13 [==============================] - 2s 157ms/step - loss: 3.9296 - val_loss: 4.5210\n",
      "Epoch 33/100\n",
      "13/13 [==============================] - 2s 154ms/step - loss: 3.8255 - val_loss: 4.5753\n",
      "Epoch 34/100\n",
      "13/13 [==============================] - 2s 155ms/step - loss: 3.8314 - val_loss: 4.4929\n",
      "Epoch 35/100\n",
      "13/13 [==============================] - 2s 154ms/step - loss: 3.7458 - val_loss: 4.5184\n",
      "Epoch 36/100\n",
      "13/13 [==============================] - 2s 160ms/step - loss: 3.5987 - val_loss: 4.5226\n",
      "Epoch 37/100\n",
      "13/13 [==============================] - 2s 158ms/step - loss: 3.5754 - val_loss: 4.4473\n",
      "Epoch 38/100\n",
      "13/13 [==============================] - 2s 158ms/step - loss: 3.4271 - val_loss: 4.4837\n",
      "Epoch 39/100\n",
      "13/13 [==============================] - 2s 147ms/step - loss: 3.3814 - val_loss: 4.3886\n",
      "Epoch 40/100\n",
      "13/13 [==============================] - 2s 148ms/step - loss: 3.3046 - val_loss: 4.4258\n",
      "Epoch 41/100\n",
      "13/13 [==============================] - 2s 142ms/step - loss: 3.1594 - val_loss: 4.4764\n",
      "Epoch 42/100\n",
      "13/13 [==============================] - 2s 151ms/step - loss: 3.1756 - val_loss: 4.4804\n",
      "Epoch 43/100\n",
      "13/13 [==============================] - 2s 146ms/step - loss: 3.0212 - val_loss: 4.4691\n",
      "Epoch 44/100\n",
      "13/13 [==============================] - 2s 146ms/step - loss: 2.9725 - val_loss: 4.4141\n"
     ]
    }
   ],
   "source": [
    "print(\"tf.keras code in this scope will run on CPU\")\n",
    "os.environ['PYTHONHASHSEED']=str(43)\n",
    "os.environ['TF_DETERMINISTIC_OPS'] = '1'\n",
    "with tf.device('cpu:0'):\n",
    "    os.environ['PYTHONHASHSEED']=str(43)\n",
    "    os.environ['TF_DETERMINISTIC_OPS'] = '1'\n",
    "    seed = 43\n",
    "    tf.random.set_seed(seed)\n",
    "    np.random.seed(seed)\n",
    "    python_random.seed(seed)\n",
    "    model = conv_lstm_real()\n",
    "    model.fit(train_mel_images__,train_label_hot,batch_size=64,validation_data=(val_mel_images__,val_label_hot),epochs=100,callbacks=[es],validation_batch_size=64)"
   ]
  },
  {
   "cell_type": "code",
   "execution_count": 89,
   "metadata": {},
   "outputs": [
    {
     "name": "stdout",
     "output_type": "stream",
     "text": [
      "9/9 [==============================] - 0s 5ms/step - loss: 4.3886\n"
     ]
    },
    {
     "data": {
      "text/plain": [
       "4.388638019561768"
      ]
     },
     "execution_count": 89,
     "metadata": {},
     "output_type": "execute_result"
    }
   ],
   "source": [
    "model.evaluate(val_mel_images__,val_label_hot) # ResNet50_model"
   ]
  },
  {
   "cell_type": "code",
   "execution_count": 93,
   "metadata": {},
   "outputs": [
    {
     "name": "stdout",
     "output_type": "stream",
     "text": [
      "9/9 [==============================] - 0s 4ms/step - loss: 4.5390\n"
     ]
    },
    {
     "data": {
      "text/plain": [
       "4.538998126983643"
      ]
     },
     "execution_count": 93,
     "metadata": {},
     "output_type": "execute_result"
    }
   ],
   "source": [
    "model.evaluate(val_mel_images__,val_label_hot) # ResNet50_model"
   ]
  },
  {
   "cell_type": "code",
   "execution_count": 51,
   "metadata": {},
   "outputs": [
    {
     "name": "stdout",
     "output_type": "stream",
     "text": [
      "tf.keras code in this scope will run on CPU\n",
      "WARNING:tensorflow:Layer lstm_6 will not use cuDNN kernel since it doesn't meet the cuDNN kernel criteria. It will use generic GPU kernel as fallback when running on GPU\n",
      "WARNING:tensorflow:Layer lstm_6 will not use cuDNN kernel since it doesn't meet the cuDNN kernel criteria. It will use generic GPU kernel as fallback when running on GPU\n",
      "WARNING:tensorflow:Layer lstm_6 will not use cuDNN kernel since it doesn't meet the cuDNN kernel criteria. It will use generic GPU kernel as fallback when running on GPU\n",
      "WARNING:tensorflow:Layer lstm_7 will not use cuDNN kernel since it doesn't meet the cuDNN kernel criteria. It will use generic GPU kernel as fallback when running on GPU\n",
      "Epoch 1/100\n",
      "13/13 [==============================] - 2s 123ms/step - loss: 5.2669 - val_loss: 5.2598\n",
      "Epoch 2/100\n",
      "13/13 [==============================] - 1s 83ms/step - loss: 5.2556 - val_loss: 5.2428\n",
      "Epoch 3/100\n",
      "13/13 [==============================] - 1s 81ms/step - loss: 5.2462 - val_loss: 5.2411\n",
      "Epoch 4/100\n",
      "13/13 [==============================] - 1s 79ms/step - loss: 5.2427 - val_loss: 5.2345\n",
      "Epoch 5/100\n",
      "13/13 [==============================] - 1s 56ms/step - loss: 5.2362 - val_loss: 5.2383\n",
      "Epoch 6/100\n",
      "13/13 [==============================] - 1s 77ms/step - loss: 5.2367 - val_loss: 5.2278\n",
      "Epoch 7/100\n",
      "13/13 [==============================] - 1s 75ms/step - loss: 5.2202 - val_loss: 5.2126\n",
      "Epoch 8/100\n",
      "13/13 [==============================] - 1s 54ms/step - loss: 5.2109 - val_loss: 5.2150\n",
      "Epoch 9/100\n",
      "13/13 [==============================] - 1s 60ms/step - loss: 5.2064 - val_loss: 5.2189\n",
      "Epoch 10/100\n",
      "13/13 [==============================] - 1s 76ms/step - loss: 5.1914 - val_loss: 5.1982\n",
      "Epoch 11/100\n",
      "13/13 [==============================] - 1s 56ms/step - loss: 5.1607 - val_loss: 5.2035\n",
      "Epoch 12/100\n",
      "13/13 [==============================] - 1s 79ms/step - loss: 5.1286 - val_loss: 5.1395\n",
      "Epoch 13/100\n",
      "13/13 [==============================] - 1s 90ms/step - loss: 5.1101 - val_loss: 5.0860\n",
      "Epoch 14/100\n",
      "13/13 [==============================] - 1s 54ms/step - loss: 5.0713 - val_loss: 5.1262\n",
      "Epoch 15/100\n",
      "13/13 [==============================] - 1s 78ms/step - loss: 5.0529 - val_loss: 5.0627\n",
      "Epoch 16/100\n",
      "13/13 [==============================] - 1s 58ms/step - loss: 5.0553 - val_loss: 5.0902\n",
      "Epoch 17/100\n",
      "13/13 [==============================] - 1s 57ms/step - loss: 5.0073 - val_loss: 5.0781\n",
      "Epoch 18/100\n",
      "13/13 [==============================] - 1s 81ms/step - loss: 4.9553 - val_loss: 5.0046\n",
      "Epoch 19/100\n",
      "13/13 [==============================] - 1s 81ms/step - loss: 4.9426 - val_loss: 4.9834\n",
      "Epoch 20/100\n",
      "13/13 [==============================] - 1s 78ms/step - loss: 4.9132 - val_loss: 4.9649\n",
      "Epoch 21/100\n",
      "13/13 [==============================] - 1s 80ms/step - loss: 4.8492 - val_loss: 4.9136\n",
      "Epoch 22/100\n",
      "13/13 [==============================] - 1s 82ms/step - loss: 4.7929 - val_loss: 4.8817\n",
      "Epoch 23/100\n",
      "13/13 [==============================] - 1s 81ms/step - loss: 4.7757 - val_loss: 4.8611\n",
      "Epoch 24/100\n",
      "13/13 [==============================] - 1s 54ms/step - loss: 4.7669 - val_loss: 4.8714\n",
      "Epoch 25/100\n",
      "13/13 [==============================] - 1s 80ms/step - loss: 4.7205 - val_loss: 4.8529\n",
      "Epoch 26/100\n",
      "13/13 [==============================] - 1s 88ms/step - loss: 4.7164 - val_loss: 4.8481\n",
      "Epoch 27/100\n",
      "13/13 [==============================] - 1s 93ms/step - loss: 4.6582 - val_loss: 4.8417\n",
      "Epoch 28/100\n",
      "13/13 [==============================] - 1s 66ms/step - loss: 4.6854 - val_loss: 4.8644\n",
      "Epoch 29/100\n",
      "13/13 [==============================] - 1s 57ms/step - loss: 4.6524 - val_loss: 4.8589\n",
      "Epoch 30/100\n",
      "13/13 [==============================] - 1s 78ms/step - loss: 4.6445 - val_loss: 4.8344\n",
      "Epoch 31/100\n",
      "13/13 [==============================] - 1s 83ms/step - loss: 4.6394 - val_loss: 4.8163\n",
      "Epoch 32/100\n",
      "13/13 [==============================] - 1s 79ms/step - loss: 4.5713 - val_loss: 4.8156\n",
      "Epoch 33/100\n",
      "13/13 [==============================] - 1s 79ms/step - loss: 4.5323 - val_loss: 4.7248\n",
      "Epoch 34/100\n",
      "13/13 [==============================] - 1s 59ms/step - loss: 4.4771 - val_loss: 4.7735\n",
      "Epoch 35/100\n",
      "13/13 [==============================] - 1s 55ms/step - loss: 4.4339 - val_loss: 4.7404\n",
      "Epoch 36/100\n",
      "13/13 [==============================] - 1s 81ms/step - loss: 4.3764 - val_loss: 4.6591\n",
      "Epoch 37/100\n",
      "13/13 [==============================] - 1s 55ms/step - loss: 4.3316 - val_loss: 4.7424\n",
      "Epoch 38/100\n",
      "13/13 [==============================] - 1s 55ms/step - loss: 4.3134 - val_loss: 4.6745\n",
      "Epoch 39/100\n",
      "13/13 [==============================] - 1s 55ms/step - loss: 4.2705 - val_loss: 4.7585\n",
      "Epoch 40/100\n",
      "13/13 [==============================] - 1s 79ms/step - loss: 4.2457 - val_loss: 4.6396\n",
      "Epoch 41/100\n",
      "13/13 [==============================] - 1s 54ms/step - loss: 4.1794 - val_loss: 4.6934\n",
      "Epoch 42/100\n",
      "13/13 [==============================] - 1s 56ms/step - loss: 4.1402 - val_loss: 4.8002\n",
      "Epoch 43/100\n",
      "13/13 [==============================] - 1s 55ms/step - loss: 4.1493 - val_loss: 4.7145\n",
      "Epoch 44/100\n",
      "13/13 [==============================] - 1s 54ms/step - loss: 4.0540 - val_loss: 4.7290\n",
      "Epoch 45/100\n",
      "13/13 [==============================] - 1s 62ms/step - loss: 3.9860 - val_loss: 4.7289\n"
     ]
    }
   ],
   "source": [
    "def conv_lstm_real():\n",
    "    os.environ['PYTHONHASHSEED']=str(43)\n",
    "    os.environ['TF_DETERMINISTIC_OPS'] = '1'\n",
    "    tf.compat.v1.reset_default_graph()\n",
    "    tf.keras.backend.clear_session()\n",
    "    seed = 43\n",
    "    tf.random.set_seed(seed)\n",
    "    np.random.seed(seed)\n",
    "    python_random.seed(seed)\n",
    "    session_conf = tf.compat.v1.ConfigProto(intra_op_parallelism_threads=1, inter_op_parallelism_threads=1)\n",
    "    sess = tf.compat.v1.Session(graph=tf.compat.v1.get_default_graph(), config=session_conf)\n",
    "    tf.compat.v1.keras.backend.set_session(sess)\n",
    "    cnn = Sequential()\n",
    "    # define CNN model\n",
    "    cnn.add(Conv2D(32, (3, 3), padding='same', input_shape=(64, 64, 3)))\n",
    "    cnn.add(MaxPooling2D((2, 2)))\n",
    "    cnn.add(Conv2D(16, (3, 3), padding='same'))\n",
    "    cnn.add(MaxPooling2D((2, 2)))\n",
    "    cnn.add(Conv2D(16, (3, 3), padding='same'))\n",
    "    cnn.add(MaxPooling2D((1, 3)))\n",
    "    cnn.add(Conv2D(32, (3, 3), padding='same'))\n",
    "    cnn.add(MaxPooling2D((2, 2)))\n",
    "\n",
    "    cnn.add(Flatten())\n",
    "    # define LSTM model\n",
    "    model = Sequential()\n",
    "    model.add(TimeDistributed(cnn))\n",
    "\n",
    "\n",
    "    model.add(Bidirectional(LSTM(1500,activation='relu',return_sequences=True)))\n",
    "    #model.add(Dropout(0.5))\n",
    "    model.add(LSTM(1500,activation='relu'))\n",
    "    model.add(Dropout(0.3))\n",
    "\n",
    "   \n",
    "    model.add(Dense(512, activation='relu'))\n",
    "    model.add(Dropout(0.1))\n",
    "\n",
    "    model.add(Dense(256, activation='relu'))\n",
    "    model.add(Dropout(0.5))\n",
    "    model.add(Dense(512, activation='relu'))\n",
    "    model.add(Dropout(0.5))\n",
    "\n",
    "    model.add(Dense(193, activation='softmax'))\n",
    "    model.compile(optimizer='adam', loss='categorical_crossentropy')\n",
    "    return model\n",
    "train_mel_images__ = train_mel_images.reshape((-1,1,64,64,3))\n",
    "val_mel_images__ = val_mel_images.reshape((-1,1,64,64,3))\n",
    "es = EarlyStopping(monitor='val_loss',mode = 'min',patience=5,restore_best_weights=True)\n",
    "'''tf.compat.v1.reset_default_graph()\n",
    "tf.keras.backend.clear_session()\n",
    "session_conf = tf.compat.v1.ConfigProto(intra_op_parallelism_threads=1, inter_op_parallelism_threads=1)\n",
    "sess = tf.compat.v1.Session(graph=tf.compat.v1.get_default_graph(), config=session_conf)\n",
    "tf.compat.v1.keras.backend.set_session(sess)\n",
    "seed = 101\n",
    "tf.random.set_seed(seed)\n",
    "np.random.seed(seed)\n",
    "python_random.seed(seed)'''\n",
    "#model = conv_lstm()\n",
    "#model.fit(train_mel_images__,train_label_hot,batch_size=64,validation_data=(val_mel_images__,val_label_hot),epochs=100,callbacks=[es],validation_batch_size=64)\n",
    "\n",
    "with tf.device(\"gpu:0\"):\n",
    "    print(\"tf.keras code in this scope will run on CPU\")\n",
    "    os.environ['PYTHONHASHSEED']=str(43)\n",
    "    os.environ['TF_DETERMINISTIC_OPS'] = '1'\n",
    "    seed = 43\n",
    "    tf.random.set_seed(seed)\n",
    "    np.random.seed(seed)\n",
    "    python_random.seed(seed)\n",
    "    model = conv_lstm_real()\n",
    "    model.fit(train_mel_images__,train_label_hot,batch_size=64,validation_data=(val_mel_images__,val_label_hot),epochs=100,callbacks=[es],validation_batch_size=64)"
   ]
  },
  {
   "cell_type": "code",
   "execution_count": 54,
   "metadata": {},
   "outputs": [
    {
     "name": "stdout",
     "output_type": "stream",
     "text": [
      "Collecting tensorflow-determinism\n",
      "  Downloading tensorflow-determinism-0.3.0.tar.gz (12 kB)\n",
      "Building wheels for collected packages: tensorflow-determinism\n",
      "  Building wheel for tensorflow-determinism (setup.py): started\n",
      "  Building wheel for tensorflow-determinism (setup.py): finished with status 'done'\n",
      "  Created wheel for tensorflow-determinism: filename=tensorflow_determinism-0.3.0-py3-none-any.whl size=9161 sha256=7625fefd25d8e2d4469fcd14038e5c05466e040199e00f937b60030fa6ab64d8\n",
      "  Stored in directory: c:\\users\\hamhamm\\appdata\\local\\pip\\cache\\wheels\\d2\\be\\33\\2b27e81e5d40b4bfb7c103ac6c6c5e81fdbcf40d2af5078529\n",
      "Successfully built tensorflow-determinism\n",
      "Installing collected packages: tensorflow-determinism\n",
      "Successfully installed tensorflow-determinism-0.3.0\n"
     ]
    }
   ],
   "source": [
    "!pip install tensorflow-determinism"
   ]
  },
  {
   "cell_type": "code",
   "execution_count": 53,
   "metadata": {},
   "outputs": [
    {
     "name": "stdout",
     "output_type": "stream",
     "text": [
      "9/9 [==============================] - 0s 7ms/step - loss: 4.6396\n"
     ]
    },
    {
     "data": {
      "text/plain": [
       "4.639597415924072"
      ]
     },
     "execution_count": 53,
     "metadata": {},
     "output_type": "execute_result"
    }
   ],
   "source": [
    "model.evaluate(val_mel_images__,val_label_hot) # ResNet50_model"
   ]
  },
  {
   "cell_type": "code",
   "execution_count": 44,
   "metadata": {},
   "outputs": [
    {
     "name": "stdout",
     "output_type": "stream",
     "text": [
      "9/9 [==============================] - 0s 7ms/step - loss: 4.6837\n"
     ]
    },
    {
     "data": {
      "text/plain": [
       "4.68366003036499"
      ]
     },
     "execution_count": 44,
     "metadata": {},
     "output_type": "execute_result"
    }
   ],
   "source": [
    "model.evaluate(val_mel_images__,val_label_hot) # ResNet50_model"
   ]
  },
  {
   "cell_type": "code",
   "execution_count": 42,
   "metadata": {},
   "outputs": [
    {
     "name": "stdout",
     "output_type": "stream",
     "text": [
      "9/9 [==============================] - 0s 7ms/step - loss: 4.6567\n"
     ]
    },
    {
     "data": {
      "text/plain": [
       "4.6566972732543945"
      ]
     },
     "execution_count": 42,
     "metadata": {},
     "output_type": "execute_result"
    }
   ],
   "source": [
    "model.evaluate(val_mel_images__,val_label_hot) # ResNet50_model"
   ]
  },
  {
   "cell_type": "code",
   "execution_count": 268,
   "metadata": {},
   "outputs": [
    {
     "data": {
      "text/plain": [
       "'2.3.1'"
      ]
     },
     "execution_count": 268,
     "metadata": {},
     "output_type": "execute_result"
    }
   ],
   "source": [
    "tf.version.VERSION"
   ]
  },
  {
   "cell_type": "code",
   "execution_count": 22,
   "metadata": {},
   "outputs": [
    {
     "name": "stdout",
     "output_type": "stream",
     "text": [
      "tf.keras code in this scope will run on CPU\n",
      "Epoch 1/100\n",
      " 2/13 [===>..........................] - ETA: 0s - loss: 40.3508WARNING:tensorflow:Callbacks method `on_train_batch_end` is slow compared to the batch time (batch time: 0.0279s vs `on_train_batch_end` time: 0.0579s). Check your callbacks.\n",
      "13/13 [==============================] - 2s 158ms/step - loss: 87.2180 - val_loss: 59.1486\n",
      "Epoch 2/100\n",
      "13/13 [==============================] - 1s 90ms/step - loss: 61.1312 - val_loss: 60.0962\n",
      "Epoch 3/100\n",
      "13/13 [==============================] - 1s 91ms/step - loss: 62.6859 - val_loss: 61.9041\n",
      "Epoch 4/100\n",
      "13/13 [==============================] - 2s 120ms/step - loss: 58.5632 - val_loss: 47.4907\n",
      "Epoch 5/100\n",
      "13/13 [==============================] - 2s 119ms/step - loss: 40.1951 - val_loss: 28.9728\n",
      "Epoch 6/100\n",
      "13/13 [==============================] - 2s 120ms/step - loss: 22.6110 - val_loss: 17.4077\n",
      "Epoch 7/100\n",
      "13/13 [==============================] - 2s 121ms/step - loss: 13.3931 - val_loss: 10.7219\n",
      "Epoch 8/100\n",
      "13/13 [==============================] - 2s 119ms/step - loss: 8.0455 - val_loss: 8.2531\n",
      "Epoch 9/100\n",
      "13/13 [==============================] - 2s 120ms/step - loss: 5.8678 - val_loss: 6.8975\n",
      "Epoch 10/100\n",
      "13/13 [==============================] - 2s 119ms/step - loss: 4.5818 - val_loss: 6.4114\n",
      "Epoch 11/100\n",
      "13/13 [==============================] - 2s 120ms/step - loss: 3.6639 - val_loss: 6.1059\n",
      "Epoch 12/100\n",
      "13/13 [==============================] - 2s 121ms/step - loss: 3.0212 - val_loss: 5.8978\n",
      "Epoch 13/100\n",
      "13/13 [==============================] - 1s 91ms/step - loss: 2.6194 - val_loss: 5.9879\n",
      "Epoch 14/100\n",
      "13/13 [==============================] - 1s 91ms/step - loss: 2.2894 - val_loss: 5.9674\n",
      "Epoch 15/100\n",
      "13/13 [==============================] - 1s 92ms/step - loss: 1.8315 - val_loss: 6.0329\n",
      "Epoch 16/100\n",
      "13/13 [==============================] - 1s 91ms/step - loss: 1.6688 - val_loss: 6.1321\n",
      "Epoch 17/100\n",
      "13/13 [==============================] - 1s 98ms/step - loss: 1.3746 - val_loss: 6.1021\n"
     ]
    }
   ],
   "source": [
    "# example of creating a CNN with an efficient inception module\n",
    "\n",
    "# function for creating a projected inception module\n",
    "def inception_module(layer_in, f1, f2_in, f2_out, f3_in, f3_out, f4_out):\n",
    "    # 1x1 conv\n",
    "    conv1 = Conv2D(f1, (1,1), padding='same', activation='relu')(layer_in)\n",
    "    # 3x3 conv\n",
    "    conv3 = Conv2D(f2_in, (1,1), padding='same', activation='relu')(layer_in)\n",
    "    conv3 = Conv2D(f2_out, (3,3), padding='same', activation='relu')(conv3)\n",
    "    # 5x5 conv\n",
    "    conv5 = Conv2D(f3_in, (1,1), padding='same', activation='relu')(layer_in)\n",
    "    conv5 = Conv2D(f3_out, (5,5), padding='same', activation='relu')(conv5)\n",
    "    # 3x3 max pooling\n",
    "    pool = MaxPooling2D((3,3), strides=(1,1), padding='same')(layer_in)\n",
    "    pool = Conv2D(f4_out, (1,1), padding='same', activation='relu')(pool)\n",
    "    # concatenate filters, assumes filters/channels last\n",
    "    layer_out = concatenate([conv1, conv3, conv5, pool], axis=-1)\n",
    "    return layer_out\n",
    "\n",
    "# define model input\n",
    "visible = Input(shape=(64, 64, 3))\n",
    "# add inception block 1\n",
    "layer = inception_module(visible, 16, 32, 32, 16, 32, 32)\n",
    "# add inception block 1\n",
    "#layer = inception_module(layer, 128, 128, 192, 32, 96, 64)\n",
    "layer = Flatten()(layer)\n",
    "layer = Dense(193,activation = 'softmax')(layer)\n",
    "# create model\n",
    "model = Model(inputs=visible, outputs=layer)\n",
    "model.compile(optimizer='adam', loss='categorical_crossentropy')\n",
    "# summarize model\n",
    "#model.summary()\n",
    "# plot model architecture\n",
    "#plot_model(model, show_shapes=True, to_file='inception_module.png')\n",
    "with tf.device(\"gpu:0\"):\n",
    "    print(\"tf.keras code in this scope will run on CPU\")\n",
    "    #model = conv_lstm_real()\n",
    "    es = EarlyStopping(monitor='val_loss',mode = 'min',patience=5,restore_best_weights=True)\n",
    "    model.fit(train_mel_images,train_label_hot,batch_size=64,validation_data=(val_mel_images,val_label_hot),epochs=100,callbacks=[es],validation_batch_size=64)"
   ]
  },
  {
   "cell_type": "code",
   "execution_count": 267,
   "metadata": {},
   "outputs": [
    {
     "ename": "NameError",
     "evalue": "name 'train_latest_tuple_data' is not defined",
     "output_type": "error",
     "traceback": [
      "\u001b[1;31m---------------------------------------------------------------------------\u001b[0m",
      "\u001b[1;31mNameError\u001b[0m                                 Traceback (most recent call last)",
      "\u001b[1;32m<ipython-input-267-6559add4c735>\u001b[0m in \u001b[0;36m<module>\u001b[1;34m()\u001b[0m\n\u001b[1;32m----> 1\u001b[1;33m \u001b[0mplt\u001b[0m\u001b[1;33m.\u001b[0m\u001b[0mimshow\u001b[0m\u001b[1;33m(\u001b[0m\u001b[0mnp\u001b[0m\u001b[1;33m.\u001b[0m\u001b[0marray\u001b[0m\u001b[1;33m(\u001b[0m\u001b[0mload_img\u001b[0m\u001b[1;33m(\u001b[0m\u001b[0mtrain_latest_tuple_data\u001b[0m\u001b[1;33m[\u001b[0m\u001b[1;36m0\u001b[0m\u001b[1;33m]\u001b[0m\u001b[1;33m[\u001b[0m\u001b[1;36m0\u001b[0m\u001b[1;33m]\u001b[0m\u001b[1;33m)\u001b[0m\u001b[1;33m)\u001b[0m\u001b[1;33m[\u001b[0m\u001b[1;36m58\u001b[0m\u001b[1;33m:\u001b[0m \u001b[1;36m229\u001b[0m\u001b[1;33m,\u001b[0m\u001b[1;36m53\u001b[0m\u001b[1;33m:\u001b[0m\u001b[1;36m166\u001b[0m\u001b[1;33m+\u001b[0m\u001b[1;36m224\u001b[0m\u001b[1;33m]\u001b[0m\u001b[1;33m)\u001b[0m\u001b[1;33m\u001b[0m\u001b[1;33m\u001b[0m\u001b[0m\n\u001b[0m",
      "\u001b[1;31mNameError\u001b[0m: name 'train_latest_tuple_data' is not defined"
     ]
    }
   ],
   "source": [
    "plt.imshow(np.array(load_img(train_latest_tuple_data[0][0]))[58: 229,53:166+224])"
   ]
  },
  {
   "cell_type": "code",
   "execution_count": null,
   "metadata": {},
   "outputs": [],
   "source": []
  }
 ],
 "metadata": {
  "kernelspec": {
   "display_name": "Python 3",
   "language": "python",
   "name": "python3"
  },
  "language_info": {
   "codemirror_mode": {
    "name": "ipython",
    "version": 3
   },
   "file_extension": ".py",
   "mimetype": "text/x-python",
   "name": "python",
   "nbconvert_exporter": "python",
   "pygments_lexer": "ipython3",
   "version": "3.7.9"
  }
 },
 "nbformat": 4,
 "nbformat_minor": 4
}
