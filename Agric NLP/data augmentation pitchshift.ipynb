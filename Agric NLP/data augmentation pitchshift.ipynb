{
 "cells": [
  {
   "cell_type": "code",
   "execution_count": 1,
   "metadata": {},
   "outputs": [],
   "source": [
    "import sys\n",
    "if '../' not in sys.path:\n",
    "    sys.path.append('../')"
   ]
  },
  {
   "cell_type": "code",
   "execution_count": 2,
   "metadata": {},
   "outputs": [
    {
     "name": "stderr",
     "output_type": "stream",
     "text": [
      "C:\\Users\\hamhamm\\anaconda3\\envs\\tf_gpu\\lib\\site-packages\\noisereduce\\noisereduce.py:5: TqdmExperimentalWarning: Using `tqdm.autonotebook.tqdm` in notebook mode. Use `tqdm.tqdm` instead to force console mode (e.g. in jupyter console)\n",
      "  from tqdm.autonotebook import tqdm\n"
     ]
    }
   ],
   "source": [
    "from diorep import contrast,reduceNoise\n",
    "from diorep.arrman import compute_db\n",
    "from diorep.arrman import get_image\n",
    "from diorep.arrman import padSample\n",
    "import pandas as pd\n",
    "import scipy.io.wavfile as wav\n",
    "import numpy as np\n",
    "import IPython.display as ipd\n",
    "import random\n",
    "import matplotlib.pyplot as plt\n",
    "%matplotlib inline\n",
    "import random\n",
    "import math\n",
    "import decimal\n",
    "from diorep.arrplot import plotSignal\n",
    "from diorep.fmanip import clip_category,gen_noise_file,get_amplitude\n",
    "from diorep.arrman import lenArray\n",
    "from diorep.reduceNoise import retNoiseClip,reduceNoiseNR\n",
    "from diorep. fmanip import assign_probability\n",
    "from audiomentations import Compose, AddGaussianNoise, TimeStretch, PitchShift, Shift\n",
    "import math\n",
    "import librosa\n",
    "from diorep.arrman import get_melspectr,random_power,mono_to_color,normalize\n",
    "random.seed(123)\n",
    "from diorep.arrman import get_wav_transforms\n",
    "from diorep.fmanip import generate_bkgnoise\n",
    "import os\n",
    "from diorep.fmanip import silence_removal"
   ]
  },
  {
   "cell_type": "code",
   "execution_count": 3,
   "metadata": {},
   "outputs": [],
   "source": [
    "train=pd.read_csv('nlp_keywords_fade.csv')\n"
   ]
  },
  {
   "cell_type": "code",
   "execution_count": 4,
   "metadata": {},
   "outputs": [
    {
     "data": {
      "text/html": [
       "<div>\n",
       "<style scoped>\n",
       "    .dataframe tbody tr th:only-of-type {\n",
       "        vertical-align: middle;\n",
       "    }\n",
       "\n",
       "    .dataframe tbody tr th {\n",
       "        vertical-align: top;\n",
       "    }\n",
       "\n",
       "    .dataframe thead th {\n",
       "        text-align: right;\n",
       "    }\n",
       "</style>\n",
       "<table border=\"1\" class=\"dataframe\">\n",
       "  <thead>\n",
       "    <tr style=\"text-align: right;\">\n",
       "      <th></th>\n",
       "      <th>fn</th>\n",
       "      <th>label</th>\n",
       "    </tr>\n",
       "  </thead>\n",
       "  <tbody>\n",
       "    <tr>\n",
       "      <th>0</th>\n",
       "      <td>nlp_keywords_fade/IV38R7F.wav</td>\n",
       "      <td>akawuka</td>\n",
       "    </tr>\n",
       "    <tr>\n",
       "      <th>1</th>\n",
       "      <td>nlp_keywords_fade/KM4SKWT.wav</td>\n",
       "      <td>banana</td>\n",
       "    </tr>\n",
       "    <tr>\n",
       "      <th>2</th>\n",
       "      <td>nlp_keywords_fade/F5POSU9.wav</td>\n",
       "      <td>obulwadde</td>\n",
       "    </tr>\n",
       "    <tr>\n",
       "      <th>3</th>\n",
       "      <td>nlp_keywords_fade/MMVDXG2.wav</td>\n",
       "      <td>nnyaanya</td>\n",
       "    </tr>\n",
       "    <tr>\n",
       "      <th>4</th>\n",
       "      <td>nlp_keywords_fade/9TVM96F.wav</td>\n",
       "      <td>pampu</td>\n",
       "    </tr>\n",
       "  </tbody>\n",
       "</table>\n",
       "</div>"
      ],
      "text/plain": [
       "                              fn      label\n",
       "0  nlp_keywords_fade/IV38R7F.wav    akawuka\n",
       "1  nlp_keywords_fade/KM4SKWT.wav     banana\n",
       "2  nlp_keywords_fade/F5POSU9.wav  obulwadde\n",
       "3  nlp_keywords_fade/MMVDXG2.wav   nnyaanya\n",
       "4  nlp_keywords_fade/9TVM96F.wav      pampu"
      ]
     },
     "execution_count": 4,
     "metadata": {},
     "output_type": "execute_result"
    }
   ],
   "source": [
    "train.head()"
   ]
  },
  {
   "cell_type": "code",
   "execution_count": 5,
   "metadata": {},
   "outputs": [],
   "source": [
    "for i in range(len(train)):\n",
    "    _,arr=wav.read(train.fn.loc[i])\n",
    "    arr=arr.astype(np.float32)\n",
    "    wav.write(train.fn.loc[i],22050,arr)"
   ]
  },
  {
   "cell_type": "code",
   "execution_count": 6,
   "metadata": {},
   "outputs": [],
   "source": [
    "class HyperParameters():\n",
    "    def __init__(self,bias=4,n_clip_length=500,audibility_threshold=50):\n",
    "        \"\"\"\n",
    "        PARAMETERS\n",
    "        ----------\n",
    "        bias: Bias parameter for the Noise Threshold\n",
    "        n_clip_length: Noise Clip Length\n",
    "        \"\"\"\n",
    "        self.bias=bias\n",
    "        self.sig_1p='audio_files/01RD8LR.wav'\n",
    "        self.sig_2p='audio_files/0259OO7.wav'\n",
    "        self.bkg_N='audio_files/SMNDURA.wav'\n",
    "        self.sr=22050\n",
    "        self.amp_1N=0.007746608\n",
    "        self.amp_2N_ref=0.00015370044\n",
    "        self.noise_threshold=compute_db(self.amp_1N,self.amp_2N_ref) + self.bias\n",
    "        self.NOISE_DIR='Noise_clip_nlp'\n",
    "        self.n_clip_length=n_clip_length\n",
    "        self.audibility_threshold=audibility_threshold\n",
    "        self.bkg_N_path='bkg_Noise_nlp'\n",
    "\n",
    "\n",
    "class HyperParamsTransform():\n",
    "    \"\"\"\n",
    "    Class to define the Hyper-parameters\n",
    "    \"\"\"\n",
    "    def __init__(self,n_mels,img_width,padSamplePath='padSampleDir_fade',sig_len_max=60858):\n",
    "        \"\"\"\n",
    "        PARAMETERS\n",
    "        ----------\n",
    "        n_mels: n_mels\n",
    "        hop_length: hop_length\n",
    "        INIT\n",
    "        ----\n",
    "        img_width\n",
    "        n_mels\n",
    "        hop_length\n",
    "        padSamplePath: path to save padded input\n",
    "        \"\"\"\n",
    "        self.n_mels=n_mels\n",
    "        self.img_width=img_width \n",
    "        self.sig_len_max=sig_len_max\n",
    "        self.hop_length= int(math.ceil(self.sig_len_max/self.img_width))\n",
    "        self.sr=22050\n",
    "        self.div_coef=100\n",
    "        self.padSamplePath=padSamplePath\n",
    "        "
   ]
  },
  {
   "cell_type": "code",
   "execution_count": 7,
   "metadata": {},
   "outputs": [],
   "source": [
    "hp=HyperParameters(bias=60)\n",
    "hpT=HyperParamsTransform(224,445)"
   ]
  },
  {
   "cell_type": "code",
   "execution_count": 8,
   "metadata": {},
   "outputs": [
    {
     "name": "stdout",
     "output_type": "stream",
     "text": [
      "The Noise Threshold in Decibel is: 94 dB \n"
     ]
    }
   ],
   "source": [
    "# print the noise Threshold\n",
    "print(f\"The Noise Threshold in Decibel is: {hp.noise_threshold} dB \")"
   ]
  },
  {
   "cell_type": "markdown",
   "metadata": {},
   "source": [
    "# Generating features"
   ]
  },
  {
   "cell_type": "code",
   "execution_count": 9,
   "metadata": {},
   "outputs": [],
   "source": [
    "train['Sample_Length']=train.fn.transform(lambda x: lenArray(x) )"
   ]
  },
  {
   "cell_type": "markdown",
   "metadata": {},
   "source": [
    "# Generating the Noise File"
   ]
  },
  {
   "cell_type": "code",
   "execution_count": 10,
   "metadata": {},
   "outputs": [],
   "source": [
    "train['Noise_fn']=train.fn.transform(lambda x: gen_noise_file(x,hp.NOISE_DIR,hp.n_clip_length))"
   ]
  },
  {
   "cell_type": "markdown",
   "metadata": {},
   "source": [
    "# Generating amplitude of the Noise Signal"
   ]
  },
  {
   "cell_type": "code",
   "execution_count": 11,
   "metadata": {},
   "outputs": [],
   "source": [
    "train['Noise_Amplitude']=train.Noise_fn.transform(lambda x: get_amplitude(x))"
   ]
  },
  {
   "cell_type": "markdown",
   "metadata": {},
   "source": [
    "# Determining noise file in decibel"
   ]
  },
  {
   "cell_type": "code",
   "execution_count": 12,
   "metadata": {},
   "outputs": [],
   "source": [
    "train['dB_Noise_SPL']=train.Noise_Amplitude.transform(lambda x: compute_db(x,hp.amp_2N_ref))"
   ]
  },
  {
   "cell_type": "code",
   "execution_count": 13,
   "metadata": {},
   "outputs": [
    {
     "data": {
      "text/plain": [
       "66"
      ]
     },
     "execution_count": 13,
     "metadata": {},
     "output_type": "execute_result"
    }
   ],
   "source": [
    "train['dB_Noise_SPL'].max()"
   ]
  },
  {
   "cell_type": "code",
   "execution_count": 14,
   "metadata": {},
   "outputs": [
    {
     "data": {
      "text/plain": [
       "-63"
      ]
     },
     "execution_count": 14,
     "metadata": {},
     "output_type": "execute_result"
    }
   ],
   "source": [
    "train['dB_Noise_SPL'].min()"
   ]
  },
  {
   "cell_type": "markdown",
   "metadata": {},
   "source": [
    "# Determining the Clip Group"
   ]
  },
  {
   "cell_type": "code",
   "execution_count": 15,
   "metadata": {},
   "outputs": [],
   "source": [
    "train['Clip_Group']=train.dB_Noise_SPL.transform(lambda x: clip_category(x,hp.noise_threshold,mid=126))"
   ]
  },
  {
   "cell_type": "markdown",
   "metadata": {},
   "source": [
    "# Assigning probability Levels to each Group"
   ]
  },
  {
   "cell_type": "code",
   "execution_count": 16,
   "metadata": {},
   "outputs": [],
   "source": [
    "train['Prob_Accuracy']=train.Clip_Group.transform(lambda x: assign_probability(x))"
   ]
  },
  {
   "cell_type": "code",
   "execution_count": 17,
   "metadata": {},
   "outputs": [
    {
     "data": {
      "text/plain": [
       "60858"
      ]
     },
     "execution_count": 17,
     "metadata": {},
     "output_type": "execute_result"
    }
   ],
   "source": [
    "train.Sample_Length.max()"
   ]
  },
  {
   "cell_type": "code",
   "execution_count": 18,
   "metadata": {},
   "outputs": [
    {
     "data": {
      "text/html": [
       "<div>\n",
       "<style scoped>\n",
       "    .dataframe tbody tr th:only-of-type {\n",
       "        vertical-align: middle;\n",
       "    }\n",
       "\n",
       "    .dataframe tbody tr th {\n",
       "        vertical-align: top;\n",
       "    }\n",
       "\n",
       "    .dataframe thead th {\n",
       "        text-align: right;\n",
       "    }\n",
       "</style>\n",
       "<table border=\"1\" class=\"dataframe\">\n",
       "  <thead>\n",
       "    <tr style=\"text-align: right;\">\n",
       "      <th></th>\n",
       "      <th>fn</th>\n",
       "      <th>label</th>\n",
       "      <th>Sample_Length</th>\n",
       "      <th>Noise_fn</th>\n",
       "      <th>Noise_Amplitude</th>\n",
       "      <th>dB_Noise_SPL</th>\n",
       "      <th>Clip_Group</th>\n",
       "      <th>Prob_Accuracy</th>\n",
       "    </tr>\n",
       "  </thead>\n",
       "  <tbody>\n",
       "  </tbody>\n",
       "</table>\n",
       "</div>"
      ],
      "text/plain": [
       "Empty DataFrame\n",
       "Columns: [fn, label, Sample_Length, Noise_fn, Noise_Amplitude, dB_Noise_SPL, Clip_Group, Prob_Accuracy]\n",
       "Index: []"
      ]
     },
     "execution_count": 18,
     "metadata": {},
     "output_type": "execute_result"
    }
   ],
   "source": [
    "train[(train.dB_Noise_SPL < 166) &(train.dB_Noise_SPL > 76)]"
   ]
  },
  {
   "cell_type": "markdown",
   "metadata": {},
   "source": [
    "# Determining the decibel of the Audio File\n"
   ]
  },
  {
   "cell_type": "code",
   "execution_count": 19,
   "metadata": {},
   "outputs": [],
   "source": [
    "# Get the Audio Amplitude\n",
    "train['Audio_amplitude']=train.fn.transform(lambda x: get_amplitude(x,100))\n",
    "train['dB_Audio_SPL']=train.Audio_amplitude.transform(lambda x: compute_db(x,hp.amp_2N_ref))"
   ]
  },
  {
   "cell_type": "code",
   "execution_count": 20,
   "metadata": {},
   "outputs": [
    {
     "data": {
      "text/html": [
       "<div>\n",
       "<style scoped>\n",
       "    .dataframe tbody tr th:only-of-type {\n",
       "        vertical-align: middle;\n",
       "    }\n",
       "\n",
       "    .dataframe tbody tr th {\n",
       "        vertical-align: top;\n",
       "    }\n",
       "\n",
       "    .dataframe thead th {\n",
       "        text-align: right;\n",
       "    }\n",
       "</style>\n",
       "<table border=\"1\" class=\"dataframe\">\n",
       "  <thead>\n",
       "    <tr style=\"text-align: right;\">\n",
       "      <th></th>\n",
       "      <th>fn</th>\n",
       "      <th>label</th>\n",
       "      <th>Sample_Length</th>\n",
       "      <th>Noise_fn</th>\n",
       "      <th>Noise_Amplitude</th>\n",
       "      <th>dB_Noise_SPL</th>\n",
       "      <th>Clip_Group</th>\n",
       "      <th>Prob_Accuracy</th>\n",
       "      <th>Audio_amplitude</th>\n",
       "      <th>dB_Audio_SPL</th>\n",
       "    </tr>\n",
       "  </thead>\n",
       "  <tbody>\n",
       "    <tr>\n",
       "      <th>0</th>\n",
       "      <td>nlp_keywords_fade/IV38R7F.wav</td>\n",
       "      <td>akawuka</td>\n",
       "      <td>54243</td>\n",
       "      <td>Noise_clip_nlp/IV38R7F.wav</td>\n",
       "      <td>0.000324</td>\n",
       "      <td>6</td>\n",
       "      <td>best</td>\n",
       "      <td>1</td>\n",
       "      <td>0.721681</td>\n",
       "      <td>73</td>\n",
       "    </tr>\n",
       "    <tr>\n",
       "      <th>1</th>\n",
       "      <td>nlp_keywords_fade/KM4SKWT.wav</td>\n",
       "      <td>banana</td>\n",
       "      <td>55261</td>\n",
       "      <td>Noise_clip_nlp/KM4SKWT.wav</td>\n",
       "      <td>0.101424</td>\n",
       "      <td>56</td>\n",
       "      <td>best</td>\n",
       "      <td>1</td>\n",
       "      <td>0.701804</td>\n",
       "      <td>73</td>\n",
       "    </tr>\n",
       "    <tr>\n",
       "      <th>2</th>\n",
       "      <td>nlp_keywords_fade/F5POSU9.wav</td>\n",
       "      <td>obulwadde</td>\n",
       "      <td>55069</td>\n",
       "      <td>Noise_clip_nlp/F5POSU9.wav</td>\n",
       "      <td>0.242045</td>\n",
       "      <td>63</td>\n",
       "      <td>best</td>\n",
       "      <td>1</td>\n",
       "      <td>0.995098</td>\n",
       "      <td>76</td>\n",
       "    </tr>\n",
       "    <tr>\n",
       "      <th>3</th>\n",
       "      <td>nlp_keywords_fade/MMVDXG2.wav</td>\n",
       "      <td>nnyaanya</td>\n",
       "      <td>54243</td>\n",
       "      <td>Noise_clip_nlp/MMVDXG2.wav</td>\n",
       "      <td>0.001786</td>\n",
       "      <td>21</td>\n",
       "      <td>best</td>\n",
       "      <td>1</td>\n",
       "      <td>0.442655</td>\n",
       "      <td>69</td>\n",
       "    </tr>\n",
       "    <tr>\n",
       "      <th>4</th>\n",
       "      <td>nlp_keywords_fade/9TVM96F.wav</td>\n",
       "      <td>pampu</td>\n",
       "      <td>55566</td>\n",
       "      <td>Noise_clip_nlp/9TVM96F.wav</td>\n",
       "      <td>0.173826</td>\n",
       "      <td>61</td>\n",
       "      <td>best</td>\n",
       "      <td>1</td>\n",
       "      <td>0.710329</td>\n",
       "      <td>73</td>\n",
       "    </tr>\n",
       "  </tbody>\n",
       "</table>\n",
       "</div>"
      ],
      "text/plain": [
       "                              fn      label  Sample_Length  \\\n",
       "0  nlp_keywords_fade/IV38R7F.wav    akawuka          54243   \n",
       "1  nlp_keywords_fade/KM4SKWT.wav     banana          55261   \n",
       "2  nlp_keywords_fade/F5POSU9.wav  obulwadde          55069   \n",
       "3  nlp_keywords_fade/MMVDXG2.wav   nnyaanya          54243   \n",
       "4  nlp_keywords_fade/9TVM96F.wav      pampu          55566   \n",
       "\n",
       "                     Noise_fn  Noise_Amplitude  dB_Noise_SPL Clip_Group  \\\n",
       "0  Noise_clip_nlp/IV38R7F.wav         0.000324             6       best   \n",
       "1  Noise_clip_nlp/KM4SKWT.wav         0.101424            56       best   \n",
       "2  Noise_clip_nlp/F5POSU9.wav         0.242045            63       best   \n",
       "3  Noise_clip_nlp/MMVDXG2.wav         0.001786            21       best   \n",
       "4  Noise_clip_nlp/9TVM96F.wav         0.173826            61       best   \n",
       "\n",
       "   Prob_Accuracy  Audio_amplitude  dB_Audio_SPL  \n",
       "0              1         0.721681            73  \n",
       "1              1         0.701804            73  \n",
       "2              1         0.995098            76  \n",
       "3              1         0.442655            69  \n",
       "4              1         0.710329            73  "
      ]
     },
     "execution_count": 20,
     "metadata": {},
     "output_type": "execute_result"
    }
   ],
   "source": [
    "train.head()"
   ]
  },
  {
   "cell_type": "markdown",
   "metadata": {},
   "source": [
    "# PadSample"
   ]
  },
  {
   "cell_type": "code",
   "execution_count": 21,
   "metadata": {},
   "outputs": [],
   "source": [
    "from diorep.arrman import padSample"
   ]
  },
  {
   "cell_type": "code",
   "execution_count": 22,
   "metadata": {},
   "outputs": [],
   "source": [
    "def pad(train,hpT):\n",
    "    dir_p=[]\n",
    "    if not os.path.exists(hpT.padSamplePath):\n",
    "        os.makedirs(hpT.padSamplePath)\n",
    "    for i in range(len(train)):\n",
    "        _=padSample(train.Sample_Length.loc[i],train.Sample_Length.max(),train.fn.loc[i]) \n",
    "        fname=train.fn.loc[i].split('/')\n",
    "        fname=fname[1]\n",
    "        fname=hpT.padSamplePath + '/' + fname\n",
    "        dir_p.append(fname)\n",
    "\n",
    "        wav.write(fname,hp.sr,_)\n",
    "    return np.array(dir_p)\n",
    "    "
   ]
  },
  {
   "cell_type": "code",
   "execution_count": 23,
   "metadata": {},
   "outputs": [],
   "source": [
    "train['fn']=pad(train,hpT)"
   ]
  },
  {
   "cell_type": "code",
   "execution_count": 24,
   "metadata": {},
   "outputs": [],
   "source": [
    "train['Sample_Length']=train.fn.transform(lambda x: lenArray(x) )"
   ]
  },
  {
   "cell_type": "markdown",
   "metadata": {},
   "source": [
    "# Generating Background Noise"
   ]
  },
  {
   "cell_type": "markdown",
   "metadata": {},
   "source": [
    "from diorep.fmanip import random_key_gen"
   ]
  },
  {
   "cell_type": "markdown",
   "metadata": {},
   "source": [
    "\n",
    "if not os.path.exists(hp.bkg_N_path):\n",
    "    os.makedirs(hp.bkg_N_path)\n",
    "for i in range(len(train)):\n",
    "    noise=generate_bkgnoise(train,signal_length=55566,lower_dB_threshold=66,higher_dB_threshold=166)\n",
    "    key=random_key_gen(7) + '.wav'\n",
    "    wav.write(os.path.join(hp.bkg_N_path,key),hp.sr,noise)\n",
    "    "
   ]
  },
  {
   "cell_type": "code",
   "execution_count": 25,
   "metadata": {},
   "outputs": [
    {
     "data": {
      "text/plain": [
       "60858"
      ]
     },
     "execution_count": 25,
     "metadata": {},
     "output_type": "execute_result"
    }
   ],
   "source": [
    "train.Sample_Length.max()"
   ]
  },
  {
   "cell_type": "markdown",
   "metadata": {},
   "source": [
    "# Generating MelSpectrogram"
   ]
  },
  {
   "cell_type": "code",
   "execution_count": 26,
   "metadata": {},
   "outputs": [],
   "source": [
    "from diorep.arrman import mono_to_color,get_image,get_melspectr,normalize\n",
    "import librosa.display\n",
    "from diorep.saug import pitchShift,shiftTime,timeStretch\n",
    "from diorep.reduceNoise import reduceNoiseNR\n",
    "from diorep.arrman import get_wav_transforms"
   ]
  },
  {
   "cell_type": "markdown",
   "metadata": {},
   "source": [
    "# pitchShift"
   ]
  },
  {
   "cell_type": "code",
   "execution_count": 27,
   "metadata": {},
   "outputs": [
    {
     "data": {
      "image/png": "[encoded data removed]",
      "text/plain": [
       "<Figure size 432x288 with 1 Axes>"
      ]
     },
     "metadata": {
      "needs_background": "light"
     },
     "output_type": "display_data"
    }
   ],
   "source": [
    "image_Path='latest_keywords_fade_mel'\n",
    "#n_steps=-6\n",
    "mel_=[]    \n",
    "#transform=get_wav_transforms(noise_path)\n",
    "\n",
    "if not os.path.exists(image_Path):\n",
    "    os.makedirs(image_Path)\n",
    "for i in range(len(train)):\n",
    "    _,arr=wav.read(train.fn.loc[i])\n",
    "    #a=reduceNoiseNR(hp.sr,arr,500)\n",
    "    #a=pitchShift(a,n_steps=n_steps)\n",
    "    #a=transform(a,hp.sr)\n",
    "    a=get_image(arr,hpT)\n",
    "    a=mono_to_color(a)\n",
    "    a=normalize(a)\n",
    "    img=plt.imshow(a[0])\n",
    "    fname=train.fn.loc[i].split('/')\n",
    "    fname=fname[1]\n",
    "    fname=fname.split('.')\n",
    "    fname=fname[0]\n",
    "    fname=image_Path + '/' + fname + '.png'\n",
    "    mel_.append(fname)\n",
    "    plt.savefig(fname)"
   ]
  },
  {
   "cell_type": "code",
   "execution_count": null,
   "metadata": {},
   "outputs": [],
   "source": []
  }
 ],
 "metadata": {
  "kernelspec": {
   "display_name": "Python 3",
   "language": "python",
   "name": "python3"
  },
  "language_info": {
   "codemirror_mode": {
    "name": "ipython",
    "version": 3
   },
   "file_extension": ".py",
   "mimetype": "text/x-python",
   "name": "python",
   "nbconvert_exporter": "python",
   "pygments_lexer": "ipython3",
   "version": "3.7.9"
  }
 },
 "nbformat": 4,
 "nbformat_minor": 4
}
