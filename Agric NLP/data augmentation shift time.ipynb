{
 "cells": [
  {
   "cell_type": "code",
   "execution_count": 1,
   "metadata": {},
   "outputs": [],
   "source": [
    "import sys\n",
    "if '../' not in sys.path:\n",
    "    sys.path.append('../')"
   ]
  },
  {
   "cell_type": "code",
   "execution_count": 2,
   "metadata": {},
   "outputs": [
    {
     "name": "stderr",
     "output_type": "stream",
     "text": [
      "C:\\Users\\hamhamm\\anaconda3\\envs\\tf_gpu\\lib\\site-packages\\noisereduce\\noisereduce.py:5: TqdmExperimentalWarning: Using `tqdm.autonotebook.tqdm` in notebook mode. Use `tqdm.tqdm` instead to force console mode (e.g. in jupyter console)\n",
      "  from tqdm.autonotebook import tqdm\n"
     ]
    }
   ],
   "source": [
    "from diorep import contrast,reduceNoise\n",
    "from diorep.arrman import compute_db\n",
    "from diorep.arrman import get_image\n",
    "from diorep.arrman import padSample\n",
    "import pandas as pd\n",
    "import scipy.io.wavfile as wav\n",
    "import numpy as np\n",
    "import IPython.display as ipd\n",
    "import random\n",
    "import matplotlib.pyplot as plt\n",
    "%matplotlib inline\n",
    "import random\n",
    "import math\n",
    "import decimal\n",
    "from diorep.arrplot import plotSignal\n",
    "from diorep.fmanip import clip_category,gen_noise_file,get_amplitude\n",
    "from diorep.arrman import lenArray\n",
    "from diorep.reduceNoise import retNoiseClip,reduceNoiseNR\n",
    "from diorep. fmanip import assign_probability\n",
    "from audiomentations import Compose, AddGaussianNoise, TimeStretch, PitchShift, Shift\n",
    "import math\n",
    "import librosa\n",
    "from diorep.arrman import get_melspectr,random_power,mono_to_color,normalize\n",
    "random.seed(123)\n",
    "from diorep.arrman import get_wav_transforms\n",
    "from diorep.fmanip import generate_bkgnoise\n",
    "import os\n",
    "from diorep.fmanip import silence_removal"
   ]
  },
  {
   "cell_type": "code",
   "execution_count": 3,
   "metadata": {},
   "outputs": [],
   "source": [
    "train=pd.read_csv('train1.csv')\n"
   ]
  },
  {
   "cell_type": "code",
   "execution_count": 4,
   "metadata": {},
   "outputs": [
    {
     "data": {
      "text/html": [
       "<div>\n",
       "<style scoped>\n",
       "    .dataframe tbody tr th:only-of-type {\n",
       "        vertical-align: middle;\n",
       "    }\n",
       "\n",
       "    .dataframe tbody tr th {\n",
       "        vertical-align: top;\n",
       "    }\n",
       "\n",
       "    .dataframe thead th {\n",
       "        text-align: right;\n",
       "    }\n",
       "</style>\n",
       "<table border=\"1\" class=\"dataframe\">\n",
       "  <thead>\n",
       "    <tr style=\"text-align: right;\">\n",
       "      <th></th>\n",
       "      <th>fn</th>\n",
       "      <th>label</th>\n",
       "      <th>Sample_Length</th>\n",
       "      <th>Noise_fn</th>\n",
       "      <th>Noise_Amplitude</th>\n",
       "      <th>dB_Noise_SPL</th>\n",
       "      <th>Clip_Group</th>\n",
       "      <th>Prob_Accuracy</th>\n",
       "      <th>Audio_amplitude</th>\n",
       "      <th>dB_Audio_SPL</th>\n",
       "    </tr>\n",
       "  </thead>\n",
       "  <tbody>\n",
       "    <tr>\n",
       "      <th>0</th>\n",
       "      <td>PadSampleAudio/IV38R7F.wav</td>\n",
       "      <td>akawuka</td>\n",
       "      <td>54243</td>\n",
       "      <td>Noise_clip/IV38R7F.wav</td>\n",
       "      <td>0.008996</td>\n",
       "      <td>35</td>\n",
       "      <td>best</td>\n",
       "      <td>1.0</td>\n",
       "      <td>0.721681</td>\n",
       "      <td>73</td>\n",
       "    </tr>\n",
       "    <tr>\n",
       "      <th>1</th>\n",
       "      <td>PadSampleAudio/KM4SKWT.wav</td>\n",
       "      <td>banana</td>\n",
       "      <td>55261</td>\n",
       "      <td>Noise_clip/KM4SKWT.wav</td>\n",
       "      <td>0.356834</td>\n",
       "      <td>67</td>\n",
       "      <td>bad</td>\n",
       "      <td>0.2</td>\n",
       "      <td>0.966937</td>\n",
       "      <td>75</td>\n",
       "    </tr>\n",
       "    <tr>\n",
       "      <th>2</th>\n",
       "      <td>PadSampleAudio/F5POSU9.wav</td>\n",
       "      <td>obulwadde</td>\n",
       "      <td>55069</td>\n",
       "      <td>Noise_clip/F5POSU9.wav</td>\n",
       "      <td>0.782890</td>\n",
       "      <td>74</td>\n",
       "      <td>bad</td>\n",
       "      <td>0.2</td>\n",
       "      <td>1.052848</td>\n",
       "      <td>76</td>\n",
       "    </tr>\n",
       "    <tr>\n",
       "      <th>3</th>\n",
       "      <td>PadSampleAudio/MMVDXG2.wav</td>\n",
       "      <td>nnyaanya</td>\n",
       "      <td>54243</td>\n",
       "      <td>Noise_clip/MMVDXG2.wav</td>\n",
       "      <td>0.015667</td>\n",
       "      <td>40</td>\n",
       "      <td>good</td>\n",
       "      <td>0.7</td>\n",
       "      <td>0.442655</td>\n",
       "      <td>69</td>\n",
       "    </tr>\n",
       "    <tr>\n",
       "      <th>4</th>\n",
       "      <td>PadSampleAudio/9TVM96F.wav</td>\n",
       "      <td>pampu</td>\n",
       "      <td>55566</td>\n",
       "      <td>Noise_clip/9TVM96F.wav</td>\n",
       "      <td>0.743068</td>\n",
       "      <td>73</td>\n",
       "      <td>bad</td>\n",
       "      <td>0.2</td>\n",
       "      <td>0.765559</td>\n",
       "      <td>73</td>\n",
       "    </tr>\n",
       "  </tbody>\n",
       "</table>\n",
       "</div>"
      ],
      "text/plain": [
       "                           fn      label  Sample_Length  \\\n",
       "0  PadSampleAudio/IV38R7F.wav    akawuka          54243   \n",
       "1  PadSampleAudio/KM4SKWT.wav     banana          55261   \n",
       "2  PadSampleAudio/F5POSU9.wav  obulwadde          55069   \n",
       "3  PadSampleAudio/MMVDXG2.wav   nnyaanya          54243   \n",
       "4  PadSampleAudio/9TVM96F.wav      pampu          55566   \n",
       "\n",
       "                 Noise_fn  Noise_Amplitude  dB_Noise_SPL Clip_Group  \\\n",
       "0  Noise_clip/IV38R7F.wav         0.008996            35       best   \n",
       "1  Noise_clip/KM4SKWT.wav         0.356834            67        bad   \n",
       "2  Noise_clip/F5POSU9.wav         0.782890            74        bad   \n",
       "3  Noise_clip/MMVDXG2.wav         0.015667            40       good   \n",
       "4  Noise_clip/9TVM96F.wav         0.743068            73        bad   \n",
       "\n",
       "   Prob_Accuracy  Audio_amplitude  dB_Audio_SPL  \n",
       "0            1.0         0.721681            73  \n",
       "1            0.2         0.966937            75  \n",
       "2            0.2         1.052848            76  \n",
       "3            0.7         0.442655            69  \n",
       "4            0.2         0.765559            73  "
      ]
     },
     "execution_count": 4,
     "metadata": {},
     "output_type": "execute_result"
    }
   ],
   "source": [
    "train.head()"
   ]
  },
  {
   "cell_type": "code",
   "execution_count": 5,
   "metadata": {},
   "outputs": [],
   "source": [
    "class HyperParameters():\n",
    "    def __init__(self,bias=4,n_clip_length=500,audibility_threshold=50):\n",
    "        \"\"\"\n",
    "        PARAMETERS\n",
    "        ----------\n",
    "        bias: Bias parameter for the Noise Threshold\n",
    "        n_clip_length: Noise Clip Length\n",
    "        \"\"\"\n",
    "        self.bias=bias\n",
    "        self.sig_1p='audio_files/01RD8LR.wav'\n",
    "        self.sig_2p='audio_files/0259OO7.wav'\n",
    "        self.bkg_N='audio_files/SMNDURA.wav'\n",
    "        self.sr=22050\n",
    "        self.amp_1N=0.007746608\n",
    "        self.amp_2N_ref=0.00015370044\n",
    "        self.noise_threshold=compute_db(self.amp_1N,self.amp_2N_ref) + self.bias\n",
    "        self.NOISE_DIR='Noise_clip'\n",
    "        self.n_clip_length=n_clip_length\n",
    "        self.audibility_threshold=audibility_threshold\n",
    "        self.bkg_N_path='bkg_Noise'\n",
    "\n",
    "\n",
    "class HyperParamsTransform():\n",
    "    \"\"\"\n",
    "    Class to define the Hyper-parameters\n",
    "    \"\"\"\n",
    "    def __init__(self,n_mels,img_width,padSamplePath='padSampleDir',sig_len_max=60858):\n",
    "        \"\"\"\n",
    "        PARAMETERS\n",
    "        ----------\n",
    "        n_mels: n_mels\n",
    "        hop_length: hop_length\n",
    "        INIT\n",
    "        ----\n",
    "        img_width\n",
    "        n_mels\n",
    "        hop_length\n",
    "        padSamplePath: path to save padded input\n",
    "        \"\"\"\n",
    "        self.n_mels=n_mels\n",
    "        self.img_width=img_width \n",
    "        self.sig_len_max=sig_len_max\n",
    "        self.hop_length=math.ceil(self.sig_len_max/self.img_width)\n",
    "        self.sr=22050\n",
    "        self.div_coef=100\n",
    "        self.padSamplePath=padSamplePath\n",
    "        "
   ]
  },
  {
   "cell_type": "code",
   "execution_count": 6,
   "metadata": {},
   "outputs": [],
   "source": [
    "hp=HyperParameters()\n",
    "hpT=HyperParamsTransform(224,224,'padSampleDir_shift200')"
   ]
  },
  {
   "cell_type": "code",
   "execution_count": 7,
   "metadata": {},
   "outputs": [
    {
     "name": "stdout",
     "output_type": "stream",
     "text": [
      "The Noise Threshold in Decibel is: 38 dB \n"
     ]
    }
   ],
   "source": [
    "# print the noise Threshold\n",
    "print(f\"The Noise Threshold in Decibel is: {hp.noise_threshold} dB \")"
   ]
  },
  {
   "cell_type": "code",
   "execution_count": 8,
   "metadata": {},
   "outputs": [],
   "source": [
    "train['Sample_Length']=train.fn.transform(lambda x: lenArray(x) )"
   ]
  },
  {
   "cell_type": "code",
   "execution_count": 9,
   "metadata": {},
   "outputs": [
    {
     "data": {
      "text/html": [
       "<div>\n",
       "<style scoped>\n",
       "    .dataframe tbody tr th:only-of-type {\n",
       "        vertical-align: middle;\n",
       "    }\n",
       "\n",
       "    .dataframe tbody tr th {\n",
       "        vertical-align: top;\n",
       "    }\n",
       "\n",
       "    .dataframe thead th {\n",
       "        text-align: right;\n",
       "    }\n",
       "</style>\n",
       "<table border=\"1\" class=\"dataframe\">\n",
       "  <thead>\n",
       "    <tr style=\"text-align: right;\">\n",
       "      <th></th>\n",
       "      <th>fn</th>\n",
       "      <th>label</th>\n",
       "      <th>Sample_Length</th>\n",
       "      <th>Noise_fn</th>\n",
       "      <th>Noise_Amplitude</th>\n",
       "      <th>dB_Noise_SPL</th>\n",
       "      <th>Clip_Group</th>\n",
       "      <th>Prob_Accuracy</th>\n",
       "      <th>Audio_amplitude</th>\n",
       "      <th>dB_Audio_SPL</th>\n",
       "    </tr>\n",
       "  </thead>\n",
       "  <tbody>\n",
       "    <tr>\n",
       "      <th>0</th>\n",
       "      <td>PadSampleAudio/IV38R7F.wav</td>\n",
       "      <td>akawuka</td>\n",
       "      <td>60858</td>\n",
       "      <td>Noise_clip/IV38R7F.wav</td>\n",
       "      <td>0.008996</td>\n",
       "      <td>35</td>\n",
       "      <td>best</td>\n",
       "      <td>1.0</td>\n",
       "      <td>0.721681</td>\n",
       "      <td>73</td>\n",
       "    </tr>\n",
       "    <tr>\n",
       "      <th>1</th>\n",
       "      <td>PadSampleAudio/KM4SKWT.wav</td>\n",
       "      <td>banana</td>\n",
       "      <td>60858</td>\n",
       "      <td>Noise_clip/KM4SKWT.wav</td>\n",
       "      <td>0.356834</td>\n",
       "      <td>67</td>\n",
       "      <td>bad</td>\n",
       "      <td>0.2</td>\n",
       "      <td>0.966937</td>\n",
       "      <td>75</td>\n",
       "    </tr>\n",
       "    <tr>\n",
       "      <th>2</th>\n",
       "      <td>PadSampleAudio/F5POSU9.wav</td>\n",
       "      <td>obulwadde</td>\n",
       "      <td>60858</td>\n",
       "      <td>Noise_clip/F5POSU9.wav</td>\n",
       "      <td>0.782890</td>\n",
       "      <td>74</td>\n",
       "      <td>bad</td>\n",
       "      <td>0.2</td>\n",
       "      <td>1.052848</td>\n",
       "      <td>76</td>\n",
       "    </tr>\n",
       "    <tr>\n",
       "      <th>3</th>\n",
       "      <td>PadSampleAudio/MMVDXG2.wav</td>\n",
       "      <td>nnyaanya</td>\n",
       "      <td>60858</td>\n",
       "      <td>Noise_clip/MMVDXG2.wav</td>\n",
       "      <td>0.015667</td>\n",
       "      <td>40</td>\n",
       "      <td>good</td>\n",
       "      <td>0.7</td>\n",
       "      <td>0.442655</td>\n",
       "      <td>69</td>\n",
       "    </tr>\n",
       "    <tr>\n",
       "      <th>4</th>\n",
       "      <td>PadSampleAudio/9TVM96F.wav</td>\n",
       "      <td>pampu</td>\n",
       "      <td>60858</td>\n",
       "      <td>Noise_clip/9TVM96F.wav</td>\n",
       "      <td>0.743068</td>\n",
       "      <td>73</td>\n",
       "      <td>bad</td>\n",
       "      <td>0.2</td>\n",
       "      <td>0.765559</td>\n",
       "      <td>73</td>\n",
       "    </tr>\n",
       "  </tbody>\n",
       "</table>\n",
       "</div>"
      ],
      "text/plain": [
       "                           fn      label  Sample_Length  \\\n",
       "0  PadSampleAudio/IV38R7F.wav    akawuka          60858   \n",
       "1  PadSampleAudio/KM4SKWT.wav     banana          60858   \n",
       "2  PadSampleAudio/F5POSU9.wav  obulwadde          60858   \n",
       "3  PadSampleAudio/MMVDXG2.wav   nnyaanya          60858   \n",
       "4  PadSampleAudio/9TVM96F.wav      pampu          60858   \n",
       "\n",
       "                 Noise_fn  Noise_Amplitude  dB_Noise_SPL Clip_Group  \\\n",
       "0  Noise_clip/IV38R7F.wav         0.008996            35       best   \n",
       "1  Noise_clip/KM4SKWT.wav         0.356834            67        bad   \n",
       "2  Noise_clip/F5POSU9.wav         0.782890            74        bad   \n",
       "3  Noise_clip/MMVDXG2.wav         0.015667            40       good   \n",
       "4  Noise_clip/9TVM96F.wav         0.743068            73        bad   \n",
       "\n",
       "   Prob_Accuracy  Audio_amplitude  dB_Audio_SPL  \n",
       "0            1.0         0.721681            73  \n",
       "1            0.2         0.966937            75  \n",
       "2            0.2         1.052848            76  \n",
       "3            0.7         0.442655            69  \n",
       "4            0.2         0.765559            73  "
      ]
     },
     "execution_count": 9,
     "metadata": {},
     "output_type": "execute_result"
    }
   ],
   "source": [
    "train.head()"
   ]
  },
  {
   "cell_type": "markdown",
   "metadata": {},
   "source": [
    "# PadSample"
   ]
  },
  {
   "cell_type": "code",
   "execution_count": 10,
   "metadata": {},
   "outputs": [],
   "source": [
    "from diorep.arrman import padSample"
   ]
  },
  {
   "cell_type": "code",
   "execution_count": 11,
   "metadata": {},
   "outputs": [],
   "source": [
    "def pad(train,hpT):\n",
    "    if not os.path.exists(hpT.padSamplePath):\n",
    "        os.makedirs(hpT.padSamplePath)\n",
    "    for i in range(len(train)):\n",
    "        _=padSample(train.Sample_Length.loc[i],train.Sample_Length.max(),train.fn.loc[i]) \n",
    "        fname=train.fn.loc[i].split('/')\n",
    "        fname=fname[1]\n",
    "        fname=hpT.padSamplePath + '/' + fname\n",
    "\n",
    "        wav.write(fname,hp.sr,_)\n",
    "    "
   ]
  },
  {
   "cell_type": "code",
   "execution_count": 12,
   "metadata": {},
   "outputs": [],
   "source": [
    "pad(train,hpT)"
   ]
  },
  {
   "cell_type": "markdown",
   "metadata": {},
   "source": [
    "# Generating MelSpectrogram"
   ]
  },
  {
   "cell_type": "code",
   "execution_count": 13,
   "metadata": {},
   "outputs": [],
   "source": [
    "from diorep.arrman import mono_to_color,get_image,get_melspectr,normalize\n",
    "import librosa.display\n",
    "from diorep.saug import pitchShift,shiftTime,timeStretch\n",
    "from diorep.reduceNoise import reduceNoiseNR"
   ]
  },
  {
   "cell_type": "markdown",
   "metadata": {},
   "source": [
    "# reduce Noise"
   ]
  },
  {
   "cell_type": "markdown",
   "metadata": {},
   "source": [
    "# shiftTime"
   ]
  },
  {
   "cell_type": "code",
   "execution_count": 14,
   "metadata": {},
   "outputs": [],
   "source": [
    "import random \n",
    "random.seed(42)"
   ]
  },
  {
   "cell_type": "code",
   "execution_count": null,
   "metadata": {},
   "outputs": [],
   "source": [
    "image_Path='shift_time_mel_200'\n",
    "time=200\n",
    "\n",
    "mel_=[]    \n",
    "\n",
    "if not os.path.exists(image_Path[j]):\n",
    "    os.makedirs(image_Path[j])\n",
    "for i in range(911,1109):\n",
    "    _,arr=wav.read(train.fn.loc[i])\n",
    "    a=reduceNoiseNR(hp.sr,arr,500)\n",
    "    a=shiftTime(a,time)\n",
    "    a=get_image(a,hpT)\n",
    "    a=mono_to_color(a)\n",
    "    a=normalize(a)\n",
    "    img=plt.imshow(a[0])\n",
    "    fname=train.fn.loc[i].split('/')\n",
    "    fname=fname[1]\n",
    "    fname=fname.split('.')\n",
    "    fname=fname[0]\n",
    "    fname=image_Path[j] + '/' + fname + '.png'\n",
    "    mel_.append(fname)\n",
    "    plt.savefig(fname)"
   ]
  }
 ],
 "metadata": {
  "kernelspec": {
   "display_name": "Python 3",
   "language": "python",
   "name": "python3"
  },
  "language_info": {
   "codemirror_mode": {
    "name": "ipython",
    "version": 3
   },
   "file_extension": ".py",
   "mimetype": "text/x-python",
   "name": "python",
   "nbconvert_exporter": "python",
   "pygments_lexer": "ipython3",
   "version": "3.7.9"
  }
 },
 "nbformat": 4,
 "nbformat_minor": 4
}
